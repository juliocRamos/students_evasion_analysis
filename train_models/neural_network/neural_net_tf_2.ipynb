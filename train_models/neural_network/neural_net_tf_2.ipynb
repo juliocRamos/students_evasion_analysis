{
 "cells": [
  {
   "cell_type": "code",
   "execution_count": null,
   "metadata": {},
   "outputs": [],
   "source": [
    "# imports\n",
    "from sklearn.metrics import confusion_matrix, classification_report, accuracy_score, roc_auc_score, precision_score, f1_score, recall_score\n",
    "from tensorflow.keras.wrappers.scikit_learn import KerasClassifier\n",
    "from tensorflow.python.keras.utils.vis_utils import plot_model\n",
    "from tensorflow.python.keras.layers import Dense, Dropout\n",
    "from sklearn.model_selection import StratifiedKFold\n",
    "from sklearn.model_selection import GridSearchCV\n",
    "from sklearn.preprocessing import MinMaxScaler\n",
    "from tensorflow.keras import Sequential\n",
    "from sklearn.pipeline import Pipeline\n",
    "import tensorflow as tf\n",
    "from tensorflow.keras import metrics\n",
    "import pandas as pd\n",
    "\n",
    "# import custom modules\n",
    "import sys\n",
    "sys.path.insert(1, '../utils/')\n",
    "import model_utils"
   ]
  },
  {
   "cell_type": "code",
   "execution_count": null,
   "metadata": {},
   "outputs": [],
   "source": [
    "df = pd.read_csv(\"../../pre_processing/datasets/no_filtered_analysis.csv\", sep=\",\")"
   ]
  },
  {
   "cell_type": "code",
   "execution_count": null,
   "metadata": {},
   "outputs": [],
   "source": [
    "# Drop RA column if exists\n",
    "if \"RA\" in df.columns:\n",
    "    print(\"Removing column RA\")\n",
    "    df.drop('RA', inplace=True, axis=1)"
   ]
  },
  {
   "cell_type": "code",
   "execution_count": null,
   "metadata": {},
   "outputs": [],
   "source": [
    "df.head()"
   ]
  },
  {
   "cell_type": "code",
   "execution_count": null,
   "metadata": {},
   "outputs": [],
   "source": [
    "# Configurate neural network features (layers, layer density, etc)\n",
    "def create_model(optimizer=\"adam\", dropout=0.2, init='uniform', input_dim=61):\n",
    "    model = Sequential()\n",
    "    model.add(Dense(units=8, input_dim=input_dim, activation='relu'))\n",
    "    model.add(Dropout(rate = dropout))\n",
    "    model.add(Dense(units=8, input_dim=input_dim, activation='relu'))\n",
    "    model.add(Dropout(rate = dropout))\n",
    "    model.add(Dense(units=2, activation='softmax'))\n",
    "\n",
    "    adam = tf.keras.optimizers.Adam(lr=0.01)\n",
    "    model.compile(loss='categorical_crossentropy', optimizer = adam, metrics=[\n",
    "        \"acc\",\n",
    "        \"mse\",\n",
    "        metrics.Precision(),\n",
    "        metrics.Recall(),\n",
    "    ])\n",
    "\n",
    "    return model"
   ]
  },
  {
   "cell_type": "code",
   "execution_count": null,
   "metadata": {},
   "outputs": [],
   "source": [
    "def run_prediction (X_train, X_test, y_train, y_test):\n",
    "    \n",
    "    # used to evaluate best model params\n",
    "    gridsearch_metrics = {\n",
    "        'REC':'recall', \n",
    "        'AUC':'roc_auc', \n",
    "        'Accuracy': 'accuracy'\n",
    "    }\n",
    "    \n",
    "    # define the grid search parameters\n",
    "    param_grid = {\n",
    "        'kc__epochs': [10, 50, 100],\n",
    "        #'kc__init': [ 'uniform', 'zeros', 'normal' ],\n",
    "        #'kc__batch_size':[2, 16, 32],\n",
    "        #'kc__optimizer':['RMSprop', 'Adam', 'Adamax', 'sgd'],\n",
    "        'kc__dropout': [0.3, 0.2, 0.1, 0]\n",
    "    }\n",
    "    \n",
    "    kears_estimator = KerasClassifier(build_fn=create_model, verbose=2)\n",
    "    estimator = Pipeline([('ss', MinMaxScaler()),\n",
    "                       (\"kc\", kears_estimator)])\n",
    "    \n",
    "    clf = GridSearchCV(estimator=estimator,  \n",
    "                    n_jobs= 10, \n",
    "                    verbose= 2,\n",
    "                    return_train_score=True,\n",
    "                    param_grid = param_grid,\n",
    "                    #scoring = gridsearch_metrics,\n",
    "                    refit = 'Accuracy')\n",
    "    \n",
    "    clf.fit(X_train, y_train)\n",
    "    predictions = clf.predict(X_test)\n",
    "\n",
    "    predict_data = {\n",
    "        \"confusion_matrix\": confusion_matrix(y_test, predictions),\n",
    "        \"classification_report\": classification_report(y_test, predictions),\n",
    "        \"model_accuracy\": accuracy_score(y_test, predictions),\n",
    "        \"f1_score\": f1_score(y_test, predictions),\n",
    "        \"precision_score\": precision_score(y_test, predictions),\n",
    "        \"roc_score\": roc_auc_score(y_test, predictions),\n",
    "        \"recall_score\": recall_score(y_test, predictions),\n",
    "        \"epoch_params\": clf.best_params_\n",
    "    }\n",
    "    \n",
    "    return predict_data"
   ]
  },
  {
   "cell_type": "code",
   "execution_count": null,
   "metadata": {},
   "outputs": [],
   "source": [
    "def main():\n",
    "    X = df.iloc[:, df.columns != \"EVADIDO\"].values\n",
    "    y = df[\"EVADIDO\"]\n",
    "\n",
    "    skf = StratifiedKFold(n_splits = 4)\n",
    "    skf.get_n_splits(X, y)\n",
    "    scaler = MinMaxScaler()\n",
    "    print(f\"StratifiedKFold config: {skf} \\n\")\n",
    "    all_predictions = []\n",
    "    for train_index, test_index in skf.split(X, y):\n",
    "\n",
    "        X_train, X_test = X[train_index], X[test_index]\n",
    "        y_train, y_test = y[train_index], y[test_index]\n",
    "\n",
    "        scaler.fit(X_train)\n",
    "        X_train = scaler.transform(X_train)\n",
    "        X_test = scaler.transform(X_test)\n",
    "\n",
    "        # return best k element\n",
    "        all_predictions.append(run_prediction(X_train, X_test, y_train, y_test))\n",
    "        \n",
    "    # General model outputs\n",
    "    model_utils.generate_output(all_predictions)\n",
    "\n",
    "    # General model outputs .csv\n",
    "    model_utils.generate_output_csv(all_predictions)\n",
    "\n",
    "    print(\"############################ FINISHED ############################\")"
   ]
  },
  {
   "cell_type": "code",
   "execution_count": null,
   "metadata": {},
   "outputs": [],
   "source": [
    "if __name__ == \"__main__\":\n",
    "    main()"
   ]
  }
 ],
 "metadata": {
  "kernelspec": {
   "display_name": "Python 3",
   "language": "python",
   "name": "python3"
  },
  "language_info": {
   "codemirror_mode": {
    "name": "ipython",
    "version": 3
   },
   "file_extension": ".py",
   "mimetype": "text/x-python",
   "name": "python",
   "nbconvert_exporter": "python",
   "pygments_lexer": "ipython3",
   "version": "3.7.9"
  }
 },
 "nbformat": 4,
 "nbformat_minor": 4
}
