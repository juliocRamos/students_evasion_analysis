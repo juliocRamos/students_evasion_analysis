{
 "cells": [
  {
   "cell_type": "code",
   "execution_count": 157,
   "metadata": {},
   "outputs": [
    {
     "name": "stdout",
     "output_type": "stream",
     "text": [
      "The tensorboard.notebook extension is already loaded. To reload it, use:\n",
      "  %reload_ext tensorboard.notebook\n"
     ]
    }
   ],
   "source": [
    "# imports\n",
    "import numpy as np\n",
    "import pandas as pd\n",
    "from tensorflow import keras\n",
    "from datetime import datetime\n",
    "from tensorflow.python.keras.utils import to_categorical\n",
    "from tensorflow.python.keras.layers import Dropout\n",
    "from tensorflow.python.keras.utils.vis_utils import plot_model\n",
    "from sklearn.model_selection import train_test_split\n",
    "from sklearn.preprocessing import MinMaxScaler\n",
    "\n",
    "# Load the TensorBoard notebook extension\n",
    "import tensorflow as tf\n",
    "import os\n",
    "%load_ext tensorboard.notebook"
   ]
  },
  {
   "cell_type": "code",
   "execution_count": 158,
   "metadata": {},
   "outputs": [],
   "source": [
    "df = pd.read_csv(\"../../pre_processing/datasets/no_filtered_analysis.csv\", sep=\",\")"
   ]
  },
  {
   "cell_type": "code",
   "execution_count": 159,
   "metadata": {},
   "outputs": [
    {
     "data": {
      "text/html": [
       "<div>\n",
       "<style scoped>\n",
       "    .dataframe tbody tr th:only-of-type {\n",
       "        vertical-align: middle;\n",
       "    }\n",
       "\n",
       "    .dataframe tbody tr th {\n",
       "        vertical-align: top;\n",
       "    }\n",
       "\n",
       "    .dataframe thead th {\n",
       "        text-align: right;\n",
       "    }\n",
       "</style>\n",
       "<table border=\"1\" class=\"dataframe\">\n",
       "  <thead>\n",
       "    <tr style=\"text-align: right;\">\n",
       "      <th></th>\n",
       "      <th>RA</th>\n",
       "      <th>EVADIDO</th>\n",
       "      <th>RESID_ARARAS</th>\n",
       "      <th>BOLSISTA</th>\n",
       "      <th>GRADE_CORRENTE</th>\n",
       "      <th>NOTA_MEDIA</th>\n",
       "      <th>PONTUACAO_PS</th>\n",
       "      <th>TOT_MAT_CURSADAS</th>\n",
       "      <th>TOT_APROVACOES</th>\n",
       "      <th>TOT_REPROVACOES</th>\n",
       "      <th>...</th>\n",
       "      <th>SIF029</th>\n",
       "      <th>SIF030</th>\n",
       "      <th>SIF038</th>\n",
       "      <th>SIF039</th>\n",
       "      <th>SIF070</th>\n",
       "      <th>NCS037</th>\n",
       "      <th>NCS040</th>\n",
       "      <th>SIF006</th>\n",
       "      <th>SIF072</th>\n",
       "      <th>SIF073</th>\n",
       "    </tr>\n",
       "  </thead>\n",
       "  <tbody>\n",
       "    <tr>\n",
       "      <th>0</th>\n",
       "      <td>002edf3eae2ce5635d797b35345ffdea</td>\n",
       "      <td>0</td>\n",
       "      <td>1</td>\n",
       "      <td>1</td>\n",
       "      <td>5</td>\n",
       "      <td>7.0</td>\n",
       "      <td>47.0</td>\n",
       "      <td>10</td>\n",
       "      <td>9</td>\n",
       "      <td>1</td>\n",
       "      <td>...</td>\n",
       "      <td>4</td>\n",
       "      <td>0</td>\n",
       "      <td>0</td>\n",
       "      <td>0</td>\n",
       "      <td>0</td>\n",
       "      <td>0</td>\n",
       "      <td>0</td>\n",
       "      <td>0</td>\n",
       "      <td>1</td>\n",
       "      <td>1</td>\n",
       "    </tr>\n",
       "    <tr>\n",
       "      <th>1</th>\n",
       "      <td>003719ff8ca88d5266775000fbd3c7f9</td>\n",
       "      <td>1</td>\n",
       "      <td>0</td>\n",
       "      <td>1</td>\n",
       "      <td>4</td>\n",
       "      <td>5.5</td>\n",
       "      <td>47.0</td>\n",
       "      <td>18</td>\n",
       "      <td>15</td>\n",
       "      <td>3</td>\n",
       "      <td>...</td>\n",
       "      <td>0</td>\n",
       "      <td>0</td>\n",
       "      <td>0</td>\n",
       "      <td>0</td>\n",
       "      <td>0</td>\n",
       "      <td>0</td>\n",
       "      <td>0</td>\n",
       "      <td>1</td>\n",
       "      <td>0</td>\n",
       "      <td>0</td>\n",
       "    </tr>\n",
       "    <tr>\n",
       "      <th>2</th>\n",
       "      <td>01563df7114a12af3f8cbd0cb4082491</td>\n",
       "      <td>1</td>\n",
       "      <td>0</td>\n",
       "      <td>0</td>\n",
       "      <td>3</td>\n",
       "      <td>3.0</td>\n",
       "      <td>46.0</td>\n",
       "      <td>12</td>\n",
       "      <td>6</td>\n",
       "      <td>6</td>\n",
       "      <td>...</td>\n",
       "      <td>0</td>\n",
       "      <td>0</td>\n",
       "      <td>0</td>\n",
       "      <td>0</td>\n",
       "      <td>0</td>\n",
       "      <td>0</td>\n",
       "      <td>0</td>\n",
       "      <td>4</td>\n",
       "      <td>0</td>\n",
       "      <td>0</td>\n",
       "    </tr>\n",
       "    <tr>\n",
       "      <th>3</th>\n",
       "      <td>016ed164e805bc35f38559a5de19f818</td>\n",
       "      <td>1</td>\n",
       "      <td>0</td>\n",
       "      <td>1</td>\n",
       "      <td>3</td>\n",
       "      <td>5.1</td>\n",
       "      <td>47.0</td>\n",
       "      <td>49</td>\n",
       "      <td>37</td>\n",
       "      <td>12</td>\n",
       "      <td>...</td>\n",
       "      <td>1</td>\n",
       "      <td>1</td>\n",
       "      <td>5</td>\n",
       "      <td>4</td>\n",
       "      <td>1</td>\n",
       "      <td>1</td>\n",
       "      <td>1</td>\n",
       "      <td>1</td>\n",
       "      <td>0</td>\n",
       "      <td>0</td>\n",
       "    </tr>\n",
       "    <tr>\n",
       "      <th>4</th>\n",
       "      <td>017a04be49784c0140a9506efe4aea86</td>\n",
       "      <td>0</td>\n",
       "      <td>0</td>\n",
       "      <td>1</td>\n",
       "      <td>5</td>\n",
       "      <td>5.4</td>\n",
       "      <td>30.0</td>\n",
       "      <td>10</td>\n",
       "      <td>8</td>\n",
       "      <td>2</td>\n",
       "      <td>...</td>\n",
       "      <td>0</td>\n",
       "      <td>0</td>\n",
       "      <td>0</td>\n",
       "      <td>0</td>\n",
       "      <td>0</td>\n",
       "      <td>0</td>\n",
       "      <td>0</td>\n",
       "      <td>0</td>\n",
       "      <td>2</td>\n",
       "      <td>1</td>\n",
       "    </tr>\n",
       "  </tbody>\n",
       "</table>\n",
       "<p>5 rows × 63 columns</p>\n",
       "</div>"
      ],
      "text/plain": [
       "                                 RA  EVADIDO  RESID_ARARAS  BOLSISTA  \\\n",
       "0  002edf3eae2ce5635d797b35345ffdea        0             1         1   \n",
       "1  003719ff8ca88d5266775000fbd3c7f9        1             0         1   \n",
       "2  01563df7114a12af3f8cbd0cb4082491        1             0         0   \n",
       "3  016ed164e805bc35f38559a5de19f818        1             0         1   \n",
       "4  017a04be49784c0140a9506efe4aea86        0             0         1   \n",
       "\n",
       "   GRADE_CORRENTE  NOTA_MEDIA  PONTUACAO_PS  TOT_MAT_CURSADAS  TOT_APROVACOES  \\\n",
       "0               5         7.0          47.0                10               9   \n",
       "1               4         5.5          47.0                18              15   \n",
       "2               3         3.0          46.0                12               6   \n",
       "3               3         5.1          47.0                49              37   \n",
       "4               5         5.4          30.0                10               8   \n",
       "\n",
       "   TOT_REPROVACOES   ...    SIF029  SIF030  SIF038  SIF039  SIF070  NCS037  \\\n",
       "0                1   ...         4       0       0       0       0       0   \n",
       "1                3   ...         0       0       0       0       0       0   \n",
       "2                6   ...         0       0       0       0       0       0   \n",
       "3               12   ...         1       1       5       4       1       1   \n",
       "4                2   ...         0       0       0       0       0       0   \n",
       "\n",
       "   NCS040  SIF006  SIF072  SIF073  \n",
       "0       0       0       1       1  \n",
       "1       0       1       0       0  \n",
       "2       0       4       0       0  \n",
       "3       1       1       0       0  \n",
       "4       0       0       2       1  \n",
       "\n",
       "[5 rows x 63 columns]"
      ]
     },
     "execution_count": 159,
     "metadata": {},
     "output_type": "execute_result"
    }
   ],
   "source": [
    "df.head()"
   ]
  },
  {
   "cell_type": "code",
   "execution_count": 160,
   "metadata": {},
   "outputs": [
    {
     "name": "stdout",
     "output_type": "stream",
     "text": [
      "Removing column RA\n"
     ]
    }
   ],
   "source": [
    "# Dropo coluna RA se existir\n",
    "if \"RA\" in df.columns:\n",
    "    print(\"Removing column RA\")\n",
    "    df.drop('RA', inplace=True, axis=1)"
   ]
  },
  {
   "cell_type": "code",
   "execution_count": 161,
   "metadata": {},
   "outputs": [],
   "source": [
    "X = df.iloc[:, df.columns != \"EVADIDO\"].values"
   ]
  },
  {
   "cell_type": "code",
   "execution_count": 162,
   "metadata": {},
   "outputs": [],
   "source": [
    "y = df[\"EVADIDO\"]"
   ]
  },
  {
   "cell_type": "code",
   "execution_count": 163,
   "metadata": {},
   "outputs": [],
   "source": [
    "y = to_categorical(y)"
   ]
  },
  {
   "cell_type": "code",
   "execution_count": 164,
   "metadata": {},
   "outputs": [],
   "source": [
    "X_train, X_test, y_train, y_test = train_test_split(X, y, test_size=0.33, random_state=42)"
   ]
  },
  {
   "cell_type": "code",
   "execution_count": 165,
   "metadata": {},
   "outputs": [],
   "source": [
    "scaler_object = MinMaxScaler()"
   ]
  },
  {
   "cell_type": "code",
   "execution_count": 166,
   "metadata": {},
   "outputs": [
    {
     "data": {
      "text/plain": [
       "MinMaxScaler(copy=True, feature_range=(0, 1))"
      ]
     },
     "execution_count": 166,
     "metadata": {},
     "output_type": "execute_result"
    }
   ],
   "source": [
    "scaler_object.fit(X_train)"
   ]
  },
  {
   "cell_type": "code",
   "execution_count": 167,
   "metadata": {},
   "outputs": [],
   "source": [
    "scaled_X_train = scaler_object.transform(X_train)"
   ]
  },
  {
   "cell_type": "code",
   "execution_count": 168,
   "metadata": {},
   "outputs": [],
   "source": [
    "scaled_X_test = scaler_object.transform(X_test)"
   ]
  },
  {
   "cell_type": "code",
   "execution_count": 169,
   "metadata": {},
   "outputs": [],
   "source": [
    "from tensorflow.python.keras.layers import Dense, Dropout\n",
    "from tensorflow.keras import Sequential"
   ]
  },
  {
   "cell_type": "code",
   "execution_count": 173,
   "metadata": {},
   "outputs": [],
   "source": [
    "# Configurate neural network features (layers, layer density, etc)\n",
    "model = Sequential()\n",
    "model.add(Dense(units=8, input_dim=61, activation='relu'))\n",
    "model.add(Dropout(rate = 0.1))\n",
    "model.add(Dense(units=8, input_dim=61, activation='relu'))\n",
    "model.add(Dropout(rate = 0.1))\n",
    "model.add(Dense(units=2, activation='softmax'))\n",
    "\n",
    "adam = tf.keras.optimizers.Adam(lr=0.001)\n",
    "model.compile(loss='categorical_crossentropy', optimizer = adam, metrics=['accuracy'])\n",
    "\n",
    "logdir = os.path.join(\"logs\", datetime.now().strftime(\"%Y%m%d-%H%M%S\"))\n",
    "tensorboard_callback = tf.keras.callbacks.TensorBoard(logdir)"
   ]
  },
  {
   "cell_type": "code",
   "execution_count": 174,
   "metadata": {},
   "outputs": [
    {
     "name": "stdout",
     "output_type": "stream",
     "text": [
      "_________________________________________________________________\n",
      "Layer (type)                 Output Shape              Param #   \n",
      "=================================================================\n",
      "dense_100 (Dense)            (None, 8)                 496       \n",
      "_________________________________________________________________\n",
      "dropout_43 (Dropout)         (None, 8)                 0         \n",
      "_________________________________________________________________\n",
      "dense_101 (Dense)            (None, 8)                 72        \n",
      "_________________________________________________________________\n",
      "dropout_44 (Dropout)         (None, 8)                 0         \n",
      "_________________________________________________________________\n",
      "dense_102 (Dense)            (None, 2)                 18        \n",
      "=================================================================\n",
      "Total params: 586\n",
      "Trainable params: 586\n",
      "Non-trainable params: 0\n",
      "_________________________________________________________________\n"
     ]
    }
   ],
   "source": [
    "# NN summary\n",
    "model.summary()\n",
    "#plot_model(model, to_file='model_plot.png', show_shapes=True, show_layer_names=True) not running on windows"
   ]
  },
  {
   "cell_type": "code",
   "execution_count": 175,
   "metadata": {},
   "outputs": [
    {
     "name": "stdout",
     "output_type": "stream",
     "text": [
      "Train on 337 samples, validate on 167 samples\n",
      "Epoch 1/100\n",
      "337/337 [==============================] - 1s 2ms/sample - loss: 0.6885 - acc: 0.5015 - val_loss: 0.6839 - val_acc: 0.6048\n",
      "Epoch 2/100\n",
      "337/337 [==============================] - 0s 80us/sample - loss: 0.6891 - acc: 0.5579 - val_loss: 0.6774 - val_acc: 0.6886\n",
      "Epoch 3/100\n",
      "337/337 [==============================] - 0s 80us/sample - loss: 0.6746 - acc: 0.6706 - val_loss: 0.6719 - val_acc: 0.7545\n",
      "Epoch 4/100\n",
      "337/337 [==============================] - 0s 83us/sample - loss: 0.6714 - acc: 0.6855 - val_loss: 0.6661 - val_acc: 0.7725\n",
      "Epoch 5/100\n",
      "337/337 [==============================] - 0s 80us/sample - loss: 0.6690 - acc: 0.7033 - val_loss: 0.6599 - val_acc: 0.7725\n",
      "Epoch 6/100\n",
      "337/337 [==============================] - 0s 80us/sample - loss: 0.6559 - acc: 0.7448 - val_loss: 0.6536 - val_acc: 0.7784\n",
      "Epoch 7/100\n",
      "337/337 [==============================] - 0s 83us/sample - loss: 0.6444 - acc: 0.7507 - val_loss: 0.6480 - val_acc: 0.7485\n",
      "Epoch 8/100\n",
      "337/337 [==============================] - 0s 86us/sample - loss: 0.6367 - acc: 0.7656 - val_loss: 0.6409 - val_acc: 0.7665\n",
      "Epoch 9/100\n",
      "337/337 [==============================] - 0s 101us/sample - loss: 0.6284 - acc: 0.7745 - val_loss: 0.6333 - val_acc: 0.7605\n",
      "Epoch 10/100\n",
      "337/337 [==============================] - 0s 83us/sample - loss: 0.6211 - acc: 0.7685 - val_loss: 0.6207 - val_acc: 0.7904\n",
      "Epoch 11/100\n",
      "337/337 [==============================] - 0s 83us/sample - loss: 0.6135 - acc: 0.7596 - val_loss: 0.6089 - val_acc: 0.8024\n",
      "Epoch 12/100\n",
      "337/337 [==============================] - 0s 80us/sample - loss: 0.5967 - acc: 0.7893 - val_loss: 0.5940 - val_acc: 0.8024\n",
      "Epoch 13/100\n",
      "337/337 [==============================] - 0s 80us/sample - loss: 0.5759 - acc: 0.8101 - val_loss: 0.5712 - val_acc: 0.8084\n",
      "Epoch 14/100\n",
      "337/337 [==============================] - 0s 83us/sample - loss: 0.5628 - acc: 0.8131 - val_loss: 0.5477 - val_acc: 0.8263\n",
      "Epoch 15/100\n",
      "337/337 [==============================] - 0s 80us/sample - loss: 0.5362 - acc: 0.8279 - val_loss: 0.5273 - val_acc: 0.8443\n",
      "Epoch 16/100\n",
      "337/337 [==============================] - 0s 83us/sample - loss: 0.5167 - acc: 0.8071 - val_loss: 0.5100 - val_acc: 0.8204\n",
      "Epoch 17/100\n",
      "337/337 [==============================] - 0s 83us/sample - loss: 0.5025 - acc: 0.8309 - val_loss: 0.4924 - val_acc: 0.8443\n",
      "Epoch 18/100\n",
      "337/337 [==============================] - 0s 86us/sample - loss: 0.4919 - acc: 0.8368 - val_loss: 0.4725 - val_acc: 0.8802\n",
      "Epoch 19/100\n",
      "337/337 [==============================] - 0s 80us/sample - loss: 0.4800 - acc: 0.8101 - val_loss: 0.4592 - val_acc: 0.8563\n",
      "Epoch 20/100\n",
      "337/337 [==============================] - 0s 86us/sample - loss: 0.4719 - acc: 0.8249 - val_loss: 0.4471 - val_acc: 0.8383\n",
      "Epoch 21/100\n",
      "337/337 [==============================] - 0s 83us/sample - loss: 0.4479 - acc: 0.8457 - val_loss: 0.4384 - val_acc: 0.8204\n",
      "Epoch 22/100\n",
      "337/337 [==============================] - 0s 86us/sample - loss: 0.4496 - acc: 0.8368 - val_loss: 0.4192 - val_acc: 0.8802\n",
      "Epoch 23/100\n",
      "337/337 [==============================] - 0s 86us/sample - loss: 0.4334 - acc: 0.8309 - val_loss: 0.4099 - val_acc: 0.8623\n",
      "Epoch 24/100\n",
      "337/337 [==============================] - 0s 83us/sample - loss: 0.4344 - acc: 0.8101 - val_loss: 0.3966 - val_acc: 0.8743\n",
      "Epoch 25/100\n",
      "337/337 [==============================] - 0s 83us/sample - loss: 0.4168 - acc: 0.8398 - val_loss: 0.3914 - val_acc: 0.8683\n",
      "Epoch 26/100\n",
      "337/337 [==============================] - 0s 83us/sample - loss: 0.3971 - acc: 0.8190 - val_loss: 0.3904 - val_acc: 0.8503\n",
      "Epoch 27/100\n",
      "337/337 [==============================] - 0s 80us/sample - loss: 0.4096 - acc: 0.8516 - val_loss: 0.3745 - val_acc: 0.8802\n",
      "Epoch 28/100\n",
      "337/337 [==============================] - 0s 80us/sample - loss: 0.3686 - acc: 0.8605 - val_loss: 0.3696 - val_acc: 0.8743\n",
      "Epoch 29/100\n",
      "337/337 [==============================] - 0s 77us/sample - loss: 0.3811 - acc: 0.8576 - val_loss: 0.3615 - val_acc: 0.8743\n",
      "Epoch 30/100\n",
      "337/337 [==============================] - 0s 83us/sample - loss: 0.3798 - acc: 0.8576 - val_loss: 0.3545 - val_acc: 0.8743\n",
      "Epoch 31/100\n",
      "337/337 [==============================] - 0s 77us/sample - loss: 0.3555 - acc: 0.8724 - val_loss: 0.3547 - val_acc: 0.8922\n",
      "Epoch 32/100\n",
      "337/337 [==============================] - 0s 80us/sample - loss: 0.3599 - acc: 0.8398 - val_loss: 0.3494 - val_acc: 0.8982\n",
      "Epoch 33/100\n",
      "337/337 [==============================] - 0s 80us/sample - loss: 0.3460 - acc: 0.8576 - val_loss: 0.3426 - val_acc: 0.8982\n",
      "Epoch 34/100\n",
      "337/337 [==============================] - 0s 80us/sample - loss: 0.3485 - acc: 0.8516 - val_loss: 0.3304 - val_acc: 0.9042\n",
      "Epoch 35/100\n",
      "337/337 [==============================] - 0s 89us/sample - loss: 0.3396 - acc: 0.8635 - val_loss: 0.3286 - val_acc: 0.8982\n",
      "Epoch 36/100\n",
      "337/337 [==============================] - 0s 83us/sample - loss: 0.3226 - acc: 0.8843 - val_loss: 0.3306 - val_acc: 0.8862\n",
      "Epoch 37/100\n",
      "337/337 [==============================] - 0s 83us/sample - loss: 0.3229 - acc: 0.8754 - val_loss: 0.3260 - val_acc: 0.8982\n",
      "Epoch 38/100\n",
      "337/337 [==============================] - 0s 83us/sample - loss: 0.3446 - acc: 0.8546 - val_loss: 0.3164 - val_acc: 0.8802\n",
      "Epoch 39/100\n",
      "337/337 [==============================] - 0s 83us/sample - loss: 0.3436 - acc: 0.8813 - val_loss: 0.3205 - val_acc: 0.8982\n",
      "Epoch 40/100\n",
      "337/337 [==============================] - 0s 83us/sample - loss: 0.3380 - acc: 0.8694 - val_loss: 0.3115 - val_acc: 0.8982\n",
      "Epoch 41/100\n",
      "337/337 [==============================] - 0s 83us/sample - loss: 0.3437 - acc: 0.8754 - val_loss: 0.3118 - val_acc: 0.8982\n",
      "Epoch 42/100\n",
      "337/337 [==============================] - 0s 86us/sample - loss: 0.3280 - acc: 0.8961 - val_loss: 0.3122 - val_acc: 0.8862\n",
      "Epoch 43/100\n",
      "337/337 [==============================] - 0s 83us/sample - loss: 0.3190 - acc: 0.8754 - val_loss: 0.3118 - val_acc: 0.8862\n",
      "Epoch 44/100\n",
      "337/337 [==============================] - 0s 83us/sample - loss: 0.3193 - acc: 0.8872 - val_loss: 0.3015 - val_acc: 0.9042\n",
      "Epoch 45/100\n",
      "337/337 [==============================] - 0s 83us/sample - loss: 0.3173 - acc: 0.8843 - val_loss: 0.3033 - val_acc: 0.9042\n",
      "Epoch 46/100\n",
      "337/337 [==============================] - 0s 83us/sample - loss: 0.3315 - acc: 0.8843 - val_loss: 0.3029 - val_acc: 0.8982\n",
      "Epoch 47/100\n",
      "337/337 [==============================] - 0s 83us/sample - loss: 0.2999 - acc: 0.8902 - val_loss: 0.2944 - val_acc: 0.8922\n",
      "Epoch 48/100\n",
      "337/337 [==============================] - 0s 83us/sample - loss: 0.2904 - acc: 0.8902 - val_loss: 0.2923 - val_acc: 0.8922\n",
      "Epoch 49/100\n",
      "337/337 [==============================] - 0s 83us/sample - loss: 0.3126 - acc: 0.8783 - val_loss: 0.2940 - val_acc: 0.8982\n",
      "Epoch 50/100\n",
      "337/337 [==============================] - 0s 83us/sample - loss: 0.2901 - acc: 0.8991 - val_loss: 0.2952 - val_acc: 0.8922\n",
      "Epoch 51/100\n",
      "337/337 [==============================] - 0s 86us/sample - loss: 0.2975 - acc: 0.8991 - val_loss: 0.2902 - val_acc: 0.8982\n",
      "Epoch 52/100\n",
      "337/337 [==============================] - 0s 86us/sample - loss: 0.3259 - acc: 0.8813 - val_loss: 0.2869 - val_acc: 0.8922\n",
      "Epoch 53/100\n",
      "337/337 [==============================] - 0s 83us/sample - loss: 0.2884 - acc: 0.8902 - val_loss: 0.2896 - val_acc: 0.8922\n",
      "Epoch 54/100\n",
      "337/337 [==============================] - 0s 89us/sample - loss: 0.2817 - acc: 0.8902 - val_loss: 0.2848 - val_acc: 0.8922\n",
      "Epoch 55/100\n",
      "337/337 [==============================] - 0s 83us/sample - loss: 0.3129 - acc: 0.8932 - val_loss: 0.2900 - val_acc: 0.8982\n",
      "Epoch 56/100\n",
      "337/337 [==============================] - 0s 80us/sample - loss: 0.2914 - acc: 0.8902 - val_loss: 0.2918 - val_acc: 0.8982\n",
      "Epoch 57/100\n",
      "337/337 [==============================] - 0s 80us/sample - loss: 0.2796 - acc: 0.8991 - val_loss: 0.2893 - val_acc: 0.9102\n",
      "Epoch 58/100\n",
      "337/337 [==============================] - 0s 86us/sample - loss: 0.2990 - acc: 0.8872 - val_loss: 0.2781 - val_acc: 0.8982\n",
      "Epoch 59/100\n",
      "337/337 [==============================] - 0s 80us/sample - loss: 0.2820 - acc: 0.8961 - val_loss: 0.2821 - val_acc: 0.8922\n",
      "Epoch 60/100\n"
     ]
    },
    {
     "name": "stdout",
     "output_type": "stream",
     "text": [
      "337/337 [==============================] - 0s 83us/sample - loss: 0.2498 - acc: 0.9080 - val_loss: 0.2881 - val_acc: 0.8922\n",
      "Epoch 61/100\n",
      "337/337 [==============================] - 0s 83us/sample - loss: 0.2827 - acc: 0.9021 - val_loss: 0.2788 - val_acc: 0.8862\n",
      "Epoch 62/100\n",
      "337/337 [==============================] - 0s 83us/sample - loss: 0.2735 - acc: 0.9050 - val_loss: 0.2764 - val_acc: 0.8862\n",
      "Epoch 63/100\n",
      "337/337 [==============================] - 0s 80us/sample - loss: 0.2780 - acc: 0.8902 - val_loss: 0.2827 - val_acc: 0.9102\n",
      "Epoch 64/100\n",
      "337/337 [==============================] - 0s 80us/sample - loss: 0.2743 - acc: 0.9110 - val_loss: 0.2753 - val_acc: 0.9042\n",
      "Epoch 65/100\n",
      "337/337 [==============================] - 0s 80us/sample - loss: 0.2559 - acc: 0.9199 - val_loss: 0.2686 - val_acc: 0.9042\n",
      "Epoch 66/100\n",
      "337/337 [==============================] - 0s 80us/sample - loss: 0.2563 - acc: 0.9199 - val_loss: 0.2686 - val_acc: 0.9042\n",
      "Epoch 67/100\n",
      "337/337 [==============================] - 0s 77us/sample - loss: 0.2649 - acc: 0.9080 - val_loss: 0.2725 - val_acc: 0.8982\n",
      "Epoch 68/100\n",
      "337/337 [==============================] - 0s 83us/sample - loss: 0.2518 - acc: 0.9199 - val_loss: 0.2738 - val_acc: 0.9042\n",
      "Epoch 69/100\n",
      "337/337 [==============================] - 0s 80us/sample - loss: 0.2465 - acc: 0.9169 - val_loss: 0.2636 - val_acc: 0.9042\n",
      "Epoch 70/100\n",
      "337/337 [==============================] - 0s 80us/sample - loss: 0.2721 - acc: 0.8991 - val_loss: 0.2644 - val_acc: 0.9042\n",
      "Epoch 71/100\n",
      "337/337 [==============================] - 0s 83us/sample - loss: 0.2455 - acc: 0.9169 - val_loss: 0.2647 - val_acc: 0.9042\n",
      "Epoch 72/100\n",
      "337/337 [==============================] - 0s 80us/sample - loss: 0.2518 - acc: 0.9080 - val_loss: 0.2676 - val_acc: 0.9281\n",
      "Epoch 73/100\n",
      "337/337 [==============================] - 0s 83us/sample - loss: 0.2474 - acc: 0.9228 - val_loss: 0.2626 - val_acc: 0.9281\n",
      "Epoch 74/100\n",
      "337/337 [==============================] - 0s 86us/sample - loss: 0.2532 - acc: 0.9110 - val_loss: 0.2524 - val_acc: 0.9102\n",
      "Epoch 75/100\n",
      "337/337 [==============================] - 0s 86us/sample - loss: 0.2519 - acc: 0.9139 - val_loss: 0.2535 - val_acc: 0.9102\n",
      "Epoch 76/100\n",
      "337/337 [==============================] - 0s 80us/sample - loss: 0.2487 - acc: 0.9169 - val_loss: 0.2534 - val_acc: 0.9222\n",
      "Epoch 77/100\n",
      "337/337 [==============================] - 0s 80us/sample - loss: 0.2379 - acc: 0.9169 - val_loss: 0.2489 - val_acc: 0.9102\n",
      "Epoch 78/100\n",
      "337/337 [==============================] - 0s 77us/sample - loss: 0.2350 - acc: 0.9228 - val_loss: 0.2519 - val_acc: 0.9162\n",
      "Epoch 79/100\n",
      "337/337 [==============================] - 0s 80us/sample - loss: 0.2487 - acc: 0.9169 - val_loss: 0.2600 - val_acc: 0.9461\n",
      "Epoch 80/100\n",
      "337/337 [==============================] - 0s 80us/sample - loss: 0.2414 - acc: 0.9080 - val_loss: 0.2669 - val_acc: 0.9401\n",
      "Epoch 81/100\n",
      "337/337 [==============================] - 0s 77us/sample - loss: 0.2483 - acc: 0.9110 - val_loss: 0.2523 - val_acc: 0.9281\n",
      "Epoch 82/100\n",
      "337/337 [==============================] - 0s 80us/sample - loss: 0.2124 - acc: 0.9258 - val_loss: 0.2518 - val_acc: 0.9222\n",
      "Epoch 83/100\n",
      "337/337 [==============================] - 0s 80us/sample - loss: 0.2298 - acc: 0.9228 - val_loss: 0.2508 - val_acc: 0.9281\n",
      "Epoch 84/100\n",
      "337/337 [==============================] - 0s 83us/sample - loss: 0.2120 - acc: 0.9228 - val_loss: 0.2535 - val_acc: 0.9281\n",
      "Epoch 85/100\n",
      "337/337 [==============================] - 0s 83us/sample - loss: 0.2513 - acc: 0.9199 - val_loss: 0.2593 - val_acc: 0.9401\n",
      "Epoch 86/100\n",
      "337/337 [==============================] - 0s 83us/sample - loss: 0.2427 - acc: 0.9139 - val_loss: 0.2401 - val_acc: 0.9341\n",
      "Epoch 87/100\n",
      "337/337 [==============================] - 0s 80us/sample - loss: 0.2296 - acc: 0.9169 - val_loss: 0.2449 - val_acc: 0.9341\n",
      "Epoch 88/100\n",
      "337/337 [==============================] - 0s 83us/sample - loss: 0.2281 - acc: 0.9169 - val_loss: 0.2542 - val_acc: 0.9341\n",
      "Epoch 89/100\n",
      "337/337 [==============================] - 0s 80us/sample - loss: 0.2194 - acc: 0.9258 - val_loss: 0.2536 - val_acc: 0.9281\n",
      "Epoch 90/100\n",
      "337/337 [==============================] - 0s 83us/sample - loss: 0.2391 - acc: 0.9199 - val_loss: 0.2473 - val_acc: 0.9281\n",
      "Epoch 91/100\n",
      "337/337 [==============================] - 0s 80us/sample - loss: 0.2151 - acc: 0.9199 - val_loss: 0.2566 - val_acc: 0.9341\n",
      "Epoch 92/100\n",
      "337/337 [==============================] - 0s 80us/sample - loss: 0.2227 - acc: 0.9080 - val_loss: 0.2528 - val_acc: 0.9341\n",
      "Epoch 93/100\n",
      "337/337 [==============================] - 0s 80us/sample - loss: 0.2109 - acc: 0.9258 - val_loss: 0.2535 - val_acc: 0.9341\n",
      "Epoch 94/100\n",
      "337/337 [==============================] - 0s 83us/sample - loss: 0.2310 - acc: 0.9228 - val_loss: 0.2487 - val_acc: 0.9341\n",
      "Epoch 95/100\n",
      "337/337 [==============================] - 0s 80us/sample - loss: 0.2290 - acc: 0.9199 - val_loss: 0.2442 - val_acc: 0.9281\n",
      "Epoch 96/100\n",
      "337/337 [==============================] - 0s 83us/sample - loss: 0.2322 - acc: 0.9288 - val_loss: 0.2475 - val_acc: 0.9401\n",
      "Epoch 97/100\n",
      "337/337 [==============================] - 0s 83us/sample - loss: 0.2155 - acc: 0.9288 - val_loss: 0.2527 - val_acc: 0.9401\n",
      "Epoch 98/100\n",
      "337/337 [==============================] - 0s 83us/sample - loss: 0.2098 - acc: 0.9318 - val_loss: 0.2473 - val_acc: 0.9341\n",
      "Epoch 99/100\n",
      "337/337 [==============================] - 0s 83us/sample - loss: 0.2189 - acc: 0.9199 - val_loss: 0.2448 - val_acc: 0.9341\n",
      "Epoch 100/100\n",
      "337/337 [==============================] - 0s 80us/sample - loss: 0.1982 - acc: 0.9407 - val_loss: 0.2471 - val_acc: 0.9341\n"
     ]
    },
    {
     "data": {
      "text/plain": [
       "<tensorflow.python.keras.callbacks.History at 0x21f333db048>"
      ]
     },
     "execution_count": 175,
     "metadata": {},
     "output_type": "execute_result"
    }
   ],
   "source": [
    "model.fit(scaled_X_train, y_train, validation_data=(scaled_X_test, y_test), epochs=100,\n",
    "                 callbacks=[tensorboard_callback])"
   ]
  },
  {
   "cell_type": "code",
   "execution_count": 179,
   "metadata": {},
   "outputs": [
    {
     "data": {
      "text/plain": [
       "Reusing TensorBoard on port 6006 (pid 11868), started 0:51:34 ago. (Use '!kill 11868' to kill it.)"
      ]
     },
     "metadata": {},
     "output_type": "display_data"
    },
    {
     "data": {
      "text/html": [
       "\n",
       "        <iframe\n",
       "            width=\"100%\"\n",
       "            height=\"600\"\n",
       "            src=\"http://localhost:6006\"\n",
       "            frameborder=\"0\"\n",
       "            allowfullscreen\n",
       "        ></iframe>\n",
       "        "
      ],
      "text/plain": [
       "<IPython.lib.display.IFrame at 0x21f43c5fc88>"
      ]
     },
     "metadata": {},
     "output_type": "display_data"
    }
   ],
   "source": [
    "# plot tensorboard\n",
    "%tensorboard --logdir logs"
   ]
  },
  {
   "cell_type": "code",
   "execution_count": 147,
   "metadata": {},
   "outputs": [
    {
     "data": {
      "text/plain": [
       "array([0, 1, 1, 1, 0, 0, 0, 0, 1, 0, 1, 0, 0, 0, 1, 1, 1, 1, 1, 1, 0, 0,\n",
       "       0, 1, 0, 0, 1, 1, 0, 1, 0, 1, 0, 0, 1, 1, 1, 1, 1, 0, 1, 0, 1, 0,\n",
       "       1, 1, 1, 1, 0, 0, 0, 0, 1, 0, 0, 0, 0, 1, 0, 0, 0, 1, 0, 0, 1, 1,\n",
       "       0, 1, 1, 0, 0, 0, 1, 1, 0, 0, 1, 1, 0, 0, 1, 0, 1, 1, 0, 0, 1, 0,\n",
       "       0, 1, 1, 1, 0, 0, 0, 0, 0, 0, 1, 1, 1, 0, 1, 1, 0, 1, 0, 0, 0, 1,\n",
       "       0, 0, 0, 0, 1, 0, 0, 1, 0, 1, 0, 0, 0, 0, 0, 0, 1, 0, 1, 0, 1, 0,\n",
       "       0, 1, 0, 1, 1, 1, 0, 1, 0, 0, 1, 1, 1, 1, 1, 1, 1, 0, 0, 0, 1, 0,\n",
       "       1, 0, 0, 0, 1, 1, 0, 0, 1, 0, 0, 0, 0], dtype=int64)"
      ]
     },
     "execution_count": 147,
     "metadata": {},
     "output_type": "execute_result"
    }
   ],
   "source": [
    "# Spits out probabilities by default.\n",
    "model.predict_classes(scaled_X_test)"
   ]
  },
  {
   "cell_type": "code",
   "execution_count": 148,
   "metadata": {},
   "outputs": [
    {
     "name": "stdout",
     "output_type": "stream",
     "text": [
      "167/167 [==============================] - 0s 36us/sample - loss: 0.2052 - acc: 0.9222\n"
     ]
    },
    {
     "data": {
      "text/plain": [
       "[0.20515271592996792, 0.9221557]"
      ]
     },
     "execution_count": 148,
     "metadata": {},
     "output_type": "execute_result"
    }
   ],
   "source": [
    "model.evaluate(x=scaled_X_test, y=y_test)"
   ]
  },
  {
   "cell_type": "code",
   "execution_count": 149,
   "metadata": {},
   "outputs": [],
   "source": [
    "from sklearn.metrics import confusion_matrix, classification_report, accuracy_score"
   ]
  },
  {
   "cell_type": "code",
   "execution_count": 150,
   "metadata": {},
   "outputs": [],
   "source": [
    "predictions = model.predict_classes(scaled_X_test)"
   ]
  },
  {
   "cell_type": "code",
   "execution_count": 151,
   "metadata": {},
   "outputs": [
    {
     "data": {
      "text/plain": [
       "array([0, 1, 1, 1, 0, 0, 0, 0, 1, 0, 1, 0, 0, 0, 1, 1, 1, 1, 1, 1, 0, 0,\n",
       "       0, 1, 0, 0, 1, 1, 0, 1, 0, 1, 0, 0, 1, 1, 1, 1, 1, 0, 1, 0, 1, 0,\n",
       "       1, 1, 1, 1, 0, 0, 0, 0, 1, 0, 0, 0, 0, 1, 0, 0, 0, 1, 0, 0, 1, 1,\n",
       "       0, 1, 1, 0, 0, 0, 1, 1, 0, 0, 1, 1, 0, 0, 1, 0, 1, 1, 0, 0, 1, 0,\n",
       "       0, 1, 1, 1, 0, 0, 0, 0, 0, 0, 1, 1, 1, 0, 1, 1, 0, 1, 0, 0, 0, 1,\n",
       "       0, 0, 0, 0, 1, 0, 0, 1, 0, 1, 0, 0, 0, 0, 0, 0, 1, 0, 1, 0, 1, 0,\n",
       "       0, 1, 0, 1, 1, 1, 0, 1, 0, 0, 1, 1, 1, 1, 1, 1, 1, 0, 0, 0, 1, 0,\n",
       "       1, 0, 0, 0, 1, 1, 0, 0, 1, 0, 0, 0, 0], dtype=int64)"
      ]
     },
     "execution_count": 151,
     "metadata": {},
     "output_type": "execute_result"
    }
   ],
   "source": [
    "predictions"
   ]
  },
  {
   "cell_type": "code",
   "execution_count": 152,
   "metadata": {},
   "outputs": [
    {
     "data": {
      "text/plain": [
       "array([0, 1, 1, 0, 0, 0, 0, 0, 1, 0, 1, 0, 0, 0, 1, 1, 1, 1, 1, 1, 0, 0,\n",
       "       0, 1, 0, 0, 1, 1, 0, 1, 0, 1, 0, 0, 0, 1, 1, 1, 1, 0, 1, 0, 1, 1,\n",
       "       1, 1, 0, 1, 0, 0, 0, 0, 1, 0, 0, 0, 0, 1, 0, 0, 0, 1, 0, 0, 1, 1,\n",
       "       0, 1, 1, 0, 0, 0, 1, 1, 0, 0, 1, 1, 0, 0, 1, 0, 0, 1, 0, 0, 1, 0,\n",
       "       0, 1, 1, 1, 0, 0, 0, 0, 0, 0, 1, 0, 1, 0, 1, 1, 0, 1, 0, 0, 0, 0,\n",
       "       0, 0, 0, 0, 0, 0, 0, 1, 0, 1, 0, 0, 0, 0, 0, 0, 1, 0, 1, 0, 1, 0,\n",
       "       0, 0, 0, 1, 1, 1, 0, 0, 0, 0, 1, 1, 1, 1, 0, 1, 1, 0, 0, 0, 1, 0,\n",
       "       0, 0, 0, 0, 1, 1, 0, 0, 1, 1, 0, 0, 0], dtype=int64)"
      ]
     },
     "execution_count": 152,
     "metadata": {},
     "output_type": "execute_result"
    }
   ],
   "source": [
    "# If you use only predictions it will return scaled values between 0 and 1 due to MinMaxScaler... possible\n",
    "# workaround below\n",
    "y_test.argmax(axis=1)"
   ]
  },
  {
   "cell_type": "code",
   "execution_count": 153,
   "metadata": {},
   "outputs": [
    {
     "name": "stdout",
     "output_type": "stream",
     "text": [
      "[[90 11]\n",
      " [ 2 64]]\n"
     ]
    }
   ],
   "source": [
    "print(confusion_matrix(y_test.argmax(axis=1), predictions))"
   ]
  },
  {
   "cell_type": "code",
   "execution_count": 154,
   "metadata": {},
   "outputs": [
    {
     "name": "stdout",
     "output_type": "stream",
     "text": [
      "              precision    recall  f1-score   support\n",
      "\n",
      "           0       0.98      0.89      0.93       101\n",
      "           1       0.85      0.97      0.91        66\n",
      "\n",
      "   micro avg       0.92      0.92      0.92       167\n",
      "   macro avg       0.92      0.93      0.92       167\n",
      "weighted avg       0.93      0.92      0.92       167\n",
      "\n"
     ]
    }
   ],
   "source": [
    "print(classification_report(y_test.argmax(axis=1), predictions))"
   ]
  },
  {
   "cell_type": "code",
   "execution_count": 155,
   "metadata": {},
   "outputs": [
    {
     "name": "stdout",
     "output_type": "stream",
     "text": [
      "Model accuracy:  0.9221556886227545 %\n"
     ]
    }
   ],
   "source": [
    "print(\"Model accuracy: \", accuracy_score(y_test.argmax(axis=1), predictions), \"%\")"
   ]
  },
  {
   "cell_type": "code",
   "execution_count": 156,
   "metadata": {},
   "outputs": [],
   "source": [
    "# Save the Neural Network model architecture\n",
    "now = datetime.now()\n",
    "current_time = now.strftime(\"%d%m%Y_%H%M%S\")\n",
    "\n",
    "# Create logic to create folder structure if it doesn't exist!\n",
    "model.save(f\"train_{current_time}_model.h5\")"
   ]
  }
 ],
 "metadata": {
  "kernelspec": {
   "display_name": "Python 3",
   "language": "python",
   "name": "python3"
  },
  "language_info": {
   "codemirror_mode": {
    "name": "ipython",
    "version": 3
   },
   "file_extension": ".py",
   "mimetype": "text/x-python",
   "name": "python",
   "nbconvert_exporter": "python",
   "pygments_lexer": "ipython3",
   "version": "3.7.9"
  }
 },
 "nbformat": 4,
 "nbformat_minor": 4
}
