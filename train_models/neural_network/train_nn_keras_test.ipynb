{
 "cells": [
  {
   "cell_type": "code",
   "execution_count": 72,
   "metadata": {},
   "outputs": [],
   "source": [
    "# imports\n",
    "import numpy as np\n",
    "import pandas as pd\n",
    "import keras\n",
    "from datetime import datetime\n",
    "from keras.utils import to_categorical\n",
    "from keras.layers import Dropout\n",
    "from keras.utils.vis_utils import plot_model\n",
    "from sklearn.model_selection import train_test_split\n",
    "from sklearn.preprocessing import MinMaxScaler\n",
    "from keras.utils import to_categorical"
   ]
  },
  {
   "cell_type": "code",
   "execution_count": 73,
   "metadata": {},
   "outputs": [],
   "source": [
    "df = pd.read_csv(\"../pre_processing/datasets/no_filtered_analysis.csv\", sep=\",\")"
   ]
  },
  {
   "cell_type": "code",
   "execution_count": 3,
   "metadata": {},
   "outputs": [
    {
     "data": {
      "text/html": [
       "<div>\n",
       "<style scoped>\n",
       "    .dataframe tbody tr th:only-of-type {\n",
       "        vertical-align: middle;\n",
       "    }\n",
       "\n",
       "    .dataframe tbody tr th {\n",
       "        vertical-align: top;\n",
       "    }\n",
       "\n",
       "    .dataframe thead th {\n",
       "        text-align: right;\n",
       "    }\n",
       "</style>\n",
       "<table border=\"1\" class=\"dataframe\">\n",
       "  <thead>\n",
       "    <tr style=\"text-align: right;\">\n",
       "      <th></th>\n",
       "      <th>RA</th>\n",
       "      <th>EVADIDO</th>\n",
       "      <th>RESID_ARARAS</th>\n",
       "      <th>BOLSISTA</th>\n",
       "      <th>GRADE_CORRENTE</th>\n",
       "      <th>NOTA_MEDIA</th>\n",
       "      <th>PONTUACAO_PS</th>\n",
       "      <th>TOT_MAT_CURSADAS</th>\n",
       "      <th>TOT_APROVACOES</th>\n",
       "      <th>TOT_REPROVACOES</th>\n",
       "      <th>...</th>\n",
       "      <th>SIF029</th>\n",
       "      <th>SIF030</th>\n",
       "      <th>SIF038</th>\n",
       "      <th>SIF039</th>\n",
       "      <th>SIF070</th>\n",
       "      <th>NCS037</th>\n",
       "      <th>NCS040</th>\n",
       "      <th>SIF006</th>\n",
       "      <th>SIF072</th>\n",
       "      <th>SIF073</th>\n",
       "    </tr>\n",
       "  </thead>\n",
       "  <tbody>\n",
       "    <tr>\n",
       "      <th>0</th>\n",
       "      <td>002edf3eae2ce5635d797b35345ffdea</td>\n",
       "      <td>0</td>\n",
       "      <td>1</td>\n",
       "      <td>1</td>\n",
       "      <td>2019</td>\n",
       "      <td>7.0</td>\n",
       "      <td>47.0</td>\n",
       "      <td>10</td>\n",
       "      <td>9</td>\n",
       "      <td>1</td>\n",
       "      <td>...</td>\n",
       "      <td>4</td>\n",
       "      <td>0</td>\n",
       "      <td>0</td>\n",
       "      <td>0</td>\n",
       "      <td>0</td>\n",
       "      <td>0</td>\n",
       "      <td>0</td>\n",
       "      <td>0</td>\n",
       "      <td>1</td>\n",
       "      <td>1</td>\n",
       "    </tr>\n",
       "    <tr>\n",
       "      <th>1</th>\n",
       "      <td>003719ff8ca88d5266775000fbd3c7f9</td>\n",
       "      <td>1</td>\n",
       "      <td>0</td>\n",
       "      <td>1</td>\n",
       "      <td>2016</td>\n",
       "      <td>5.5</td>\n",
       "      <td>47.0</td>\n",
       "      <td>18</td>\n",
       "      <td>15</td>\n",
       "      <td>3</td>\n",
       "      <td>...</td>\n",
       "      <td>0</td>\n",
       "      <td>0</td>\n",
       "      <td>0</td>\n",
       "      <td>0</td>\n",
       "      <td>0</td>\n",
       "      <td>0</td>\n",
       "      <td>0</td>\n",
       "      <td>1</td>\n",
       "      <td>0</td>\n",
       "      <td>0</td>\n",
       "    </tr>\n",
       "    <tr>\n",
       "      <th>2</th>\n",
       "      <td>01563df7114a12af3f8cbd0cb4082491</td>\n",
       "      <td>1</td>\n",
       "      <td>0</td>\n",
       "      <td>0</td>\n",
       "      <td>2014</td>\n",
       "      <td>3.0</td>\n",
       "      <td>46.0</td>\n",
       "      <td>12</td>\n",
       "      <td>6</td>\n",
       "      <td>6</td>\n",
       "      <td>...</td>\n",
       "      <td>0</td>\n",
       "      <td>0</td>\n",
       "      <td>0</td>\n",
       "      <td>0</td>\n",
       "      <td>0</td>\n",
       "      <td>0</td>\n",
       "      <td>0</td>\n",
       "      <td>4</td>\n",
       "      <td>0</td>\n",
       "      <td>0</td>\n",
       "    </tr>\n",
       "    <tr>\n",
       "      <th>3</th>\n",
       "      <td>016ed164e805bc35f38559a5de19f818</td>\n",
       "      <td>1</td>\n",
       "      <td>0</td>\n",
       "      <td>1</td>\n",
       "      <td>2014</td>\n",
       "      <td>5.1</td>\n",
       "      <td>47.0</td>\n",
       "      <td>49</td>\n",
       "      <td>37</td>\n",
       "      <td>12</td>\n",
       "      <td>...</td>\n",
       "      <td>1</td>\n",
       "      <td>1</td>\n",
       "      <td>5</td>\n",
       "      <td>4</td>\n",
       "      <td>1</td>\n",
       "      <td>1</td>\n",
       "      <td>1</td>\n",
       "      <td>1</td>\n",
       "      <td>0</td>\n",
       "      <td>0</td>\n",
       "    </tr>\n",
       "    <tr>\n",
       "      <th>4</th>\n",
       "      <td>017a04be49784c0140a9506efe4aea86</td>\n",
       "      <td>0</td>\n",
       "      <td>0</td>\n",
       "      <td>1</td>\n",
       "      <td>2019</td>\n",
       "      <td>5.4</td>\n",
       "      <td>30.0</td>\n",
       "      <td>10</td>\n",
       "      <td>8</td>\n",
       "      <td>2</td>\n",
       "      <td>...</td>\n",
       "      <td>0</td>\n",
       "      <td>0</td>\n",
       "      <td>0</td>\n",
       "      <td>0</td>\n",
       "      <td>0</td>\n",
       "      <td>0</td>\n",
       "      <td>0</td>\n",
       "      <td>0</td>\n",
       "      <td>2</td>\n",
       "      <td>1</td>\n",
       "    </tr>\n",
       "  </tbody>\n",
       "</table>\n",
       "<p>5 rows × 63 columns</p>\n",
       "</div>"
      ],
      "text/plain": [
       "                                 RA  EVADIDO  RESID_ARARAS  BOLSISTA  \\\n",
       "0  002edf3eae2ce5635d797b35345ffdea        0             1         1   \n",
       "1  003719ff8ca88d5266775000fbd3c7f9        1             0         1   \n",
       "2  01563df7114a12af3f8cbd0cb4082491        1             0         0   \n",
       "3  016ed164e805bc35f38559a5de19f818        1             0         1   \n",
       "4  017a04be49784c0140a9506efe4aea86        0             0         1   \n",
       "\n",
       "   GRADE_CORRENTE  NOTA_MEDIA  PONTUACAO_PS  TOT_MAT_CURSADAS  TOT_APROVACOES  \\\n",
       "0            2019         7.0          47.0                10               9   \n",
       "1            2016         5.5          47.0                18              15   \n",
       "2            2014         3.0          46.0                12               6   \n",
       "3            2014         5.1          47.0                49              37   \n",
       "4            2019         5.4          30.0                10               8   \n",
       "\n",
       "   TOT_REPROVACOES   ...    SIF029  SIF030  SIF038  SIF039  SIF070  NCS037  \\\n",
       "0                1   ...         4       0       0       0       0       0   \n",
       "1                3   ...         0       0       0       0       0       0   \n",
       "2                6   ...         0       0       0       0       0       0   \n",
       "3               12   ...         1       1       5       4       1       1   \n",
       "4                2   ...         0       0       0       0       0       0   \n",
       "\n",
       "   NCS040  SIF006  SIF072  SIF073  \n",
       "0       0       0       1       1  \n",
       "1       0       1       0       0  \n",
       "2       0       4       0       0  \n",
       "3       1       1       0       0  \n",
       "4       0       0       2       1  \n",
       "\n",
       "[5 rows x 63 columns]"
      ]
     },
     "execution_count": 3,
     "metadata": {},
     "output_type": "execute_result"
    }
   ],
   "source": [
    "df.head()"
   ]
  },
  {
   "cell_type": "code",
   "execution_count": 4,
   "metadata": {},
   "outputs": [],
   "source": [
    "# Dropo a coluna de RA\n",
    "df.drop(\"RA\", axis=1, inplace=True)"
   ]
  },
  {
   "cell_type": "code",
   "execution_count": 5,
   "metadata": {},
   "outputs": [],
   "source": [
    "X = df.iloc[:, df.columns != \"EVADIDO\"].values"
   ]
  },
  {
   "cell_type": "code",
   "execution_count": 6,
   "metadata": {},
   "outputs": [],
   "source": [
    "y = df[\"EVADIDO\"]"
   ]
  },
  {
   "cell_type": "code",
   "execution_count": 7,
   "metadata": {},
   "outputs": [],
   "source": [
    "y = to_categorical(y)"
   ]
  },
  {
   "cell_type": "code",
   "execution_count": 8,
   "metadata": {},
   "outputs": [],
   "source": [
    "X_train, X_test, y_train, y_test = train_test_split(X, y, test_size=0.33, random_state=42)"
   ]
  },
  {
   "cell_type": "code",
   "execution_count": 9,
   "metadata": {},
   "outputs": [],
   "source": [
    "scaler_object = MinMaxScaler()"
   ]
  },
  {
   "cell_type": "code",
   "execution_count": 10,
   "metadata": {},
   "outputs": [
    {
     "data": {
      "text/plain": [
       "MinMaxScaler(copy=True, feature_range=(0, 1))"
      ]
     },
     "execution_count": 10,
     "metadata": {},
     "output_type": "execute_result"
    }
   ],
   "source": [
    "# TODO: Converd years to timestamp to scale after\n",
    "scaler_object.fit(X_train)"
   ]
  },
  {
   "cell_type": "code",
   "execution_count": 11,
   "metadata": {},
   "outputs": [],
   "source": [
    "scaled_X_train = scaler_object.transform(X_train)"
   ]
  },
  {
   "cell_type": "code",
   "execution_count": 12,
   "metadata": {},
   "outputs": [],
   "source": [
    "scaled_X_test = scaler_object.transform(X_test)"
   ]
  },
  {
   "cell_type": "code",
   "execution_count": 13,
   "metadata": {},
   "outputs": [],
   "source": [
    "from keras.models import Sequential\n",
    "from keras.layers import Dense"
   ]
  },
  {
   "cell_type": "code",
   "execution_count": 74,
   "metadata": {},
   "outputs": [],
   "source": [
    "# Configurate neural network features (layers, layer density, etc)\n",
    "model = Sequential()\n",
    "model.add(Dense(units=8, input_dim=61, activation='relu'))\n",
    "model.add(Dropout(rate = 0.1))\n",
    "model.add(Dense(units=4, input_dim=61, activation='relu'))\n",
    "model.add(Dense(units=2, activation='softmax'))\n",
    "\n",
    "adam = keras.optimizers.Adam(learning_rate=0.001)\n",
    "model.compile(loss='categorical_crossentropy', optimizer = adam, metrics=['accuracy'])"
   ]
  },
  {
   "cell_type": "code",
   "execution_count": 75,
   "metadata": {},
   "outputs": [
    {
     "name": "stdout",
     "output_type": "stream",
     "text": [
      "Model: \"sequential_9\"\n",
      "_________________________________________________________________\n",
      "Layer (type)                 Output Shape              Param #   \n",
      "=================================================================\n",
      "dense_23 (Dense)             (None, 8)                 496       \n",
      "_________________________________________________________________\n",
      "dropout_1 (Dropout)          (None, 8)                 0         \n",
      "_________________________________________________________________\n",
      "dense_24 (Dense)             (None, 4)                 36        \n",
      "_________________________________________________________________\n",
      "dense_25 (Dense)             (None, 2)                 10        \n",
      "=================================================================\n",
      "Total params: 542\n",
      "Trainable params: 542\n",
      "Non-trainable params: 0\n",
      "_________________________________________________________________\n"
     ]
    }
   ],
   "source": [
    "# NN summary\n",
    "model.summary()\n",
    "#plot_model(model, to_file='model_plot.png', show_shapes=True, show_layer_names=True) not running on windows"
   ]
  },
  {
   "cell_type": "code",
   "execution_count": 76,
   "metadata": {},
   "outputs": [
    {
     "name": "stdout",
     "output_type": "stream",
     "text": [
      "Epoch 1/150\n",
      " - 0s - loss: 0.6844 - accuracy: 0.5579\n",
      "Epoch 2/150\n",
      " - 0s - loss: 0.6754 - accuracy: 0.6973\n",
      "Epoch 3/150\n",
      " - 0s - loss: 0.6613 - accuracy: 0.7596\n",
      "Epoch 4/150\n",
      " - 0s - loss: 0.6439 - accuracy: 0.8220\n",
      "Epoch 5/150\n",
      " - 0s - loss: 0.6332 - accuracy: 0.7953\n",
      "Epoch 6/150\n",
      " - 0s - loss: 0.6101 - accuracy: 0.7982\n",
      "Epoch 7/150\n",
      " - 0s - loss: 0.6041 - accuracy: 0.7745\n",
      "Epoch 8/150\n",
      " - 0s - loss: 0.5669 - accuracy: 0.8338\n",
      "Epoch 9/150\n",
      " - 0s - loss: 0.5496 - accuracy: 0.8338\n",
      "Epoch 10/150\n",
      " - 0s - loss: 0.5273 - accuracy: 0.8279\n",
      "Epoch 11/150\n",
      " - 0s - loss: 0.4977 - accuracy: 0.8398\n",
      "Epoch 12/150\n",
      " - 0s - loss: 0.4718 - accuracy: 0.8546\n",
      "Epoch 13/150\n",
      " - 0s - loss: 0.4453 - accuracy: 0.8635\n",
      "Epoch 14/150\n",
      " - 0s - loss: 0.4485 - accuracy: 0.8398\n",
      "Epoch 15/150\n",
      " - 0s - loss: 0.4241 - accuracy: 0.8813\n",
      "Epoch 16/150\n",
      " - 0s - loss: 0.4112 - accuracy: 0.8635\n",
      "Epoch 17/150\n",
      " - 0s - loss: 0.3902 - accuracy: 0.8665\n",
      "Epoch 18/150\n",
      " - 0s - loss: 0.3970 - accuracy: 0.8665\n",
      "Epoch 19/150\n",
      " - 0s - loss: 0.3752 - accuracy: 0.8635\n",
      "Epoch 20/150\n",
      " - 0s - loss: 0.3865 - accuracy: 0.8576\n",
      "Epoch 21/150\n",
      " - 0s - loss: 0.3646 - accuracy: 0.8694\n",
      "Epoch 22/150\n",
      " - 0s - loss: 0.3534 - accuracy: 0.8754\n",
      "Epoch 23/150\n",
      " - 0s - loss: 0.3608 - accuracy: 0.8754\n",
      "Epoch 24/150\n",
      " - 0s - loss: 0.3617 - accuracy: 0.8694\n",
      "Epoch 25/150\n",
      " - 0s - loss: 0.3384 - accuracy: 0.8724\n",
      "Epoch 26/150\n",
      " - 0s - loss: 0.3301 - accuracy: 0.8843\n",
      "Epoch 27/150\n",
      " - 0s - loss: 0.3307 - accuracy: 0.8754\n",
      "Epoch 28/150\n",
      " - 0s - loss: 0.3152 - accuracy: 0.8813\n",
      "Epoch 29/150\n",
      " - 0s - loss: 0.3142 - accuracy: 0.8813\n",
      "Epoch 30/150\n",
      " - 0s - loss: 0.3216 - accuracy: 0.8783\n",
      "Epoch 31/150\n",
      " - 0s - loss: 0.3251 - accuracy: 0.8635\n",
      "Epoch 32/150\n",
      " - 0s - loss: 0.3130 - accuracy: 0.8724\n",
      "Epoch 33/150\n",
      " - 0s - loss: 0.3128 - accuracy: 0.8724\n",
      "Epoch 34/150\n",
      " - 0s - loss: 0.3164 - accuracy: 0.8783\n",
      "Epoch 35/150\n",
      " - 0s - loss: 0.2950 - accuracy: 0.8754\n",
      "Epoch 36/150\n",
      " - 0s - loss: 0.3133 - accuracy: 0.8724\n",
      "Epoch 37/150\n",
      " - 0s - loss: 0.2884 - accuracy: 0.8932\n",
      "Epoch 38/150\n",
      " - 0s - loss: 0.2922 - accuracy: 0.8813\n",
      "Epoch 39/150\n",
      " - 0s - loss: 0.3079 - accuracy: 0.8783\n",
      "Epoch 40/150\n",
      " - 0s - loss: 0.2855 - accuracy: 0.8843\n",
      "Epoch 41/150\n",
      " - 0s - loss: 0.2838 - accuracy: 0.8991\n",
      "Epoch 42/150\n",
      " - 0s - loss: 0.2737 - accuracy: 0.8991\n",
      "Epoch 43/150\n",
      " - 0s - loss: 0.2851 - accuracy: 0.8754\n",
      "Epoch 44/150\n",
      " - 0s - loss: 0.3011 - accuracy: 0.8783\n",
      "Epoch 45/150\n",
      " - 0s - loss: 0.2746 - accuracy: 0.9080\n",
      "Epoch 46/150\n",
      " - 0s - loss: 0.2729 - accuracy: 0.8872\n",
      "Epoch 47/150\n",
      " - 0s - loss: 0.2724 - accuracy: 0.8932\n",
      "Epoch 48/150\n",
      " - 0s - loss: 0.2842 - accuracy: 0.8872\n",
      "Epoch 49/150\n",
      " - 0s - loss: 0.2711 - accuracy: 0.8991\n",
      "Epoch 50/150\n",
      " - 0s - loss: 0.2719 - accuracy: 0.9021\n",
      "Epoch 51/150\n",
      " - 0s - loss: 0.2651 - accuracy: 0.8813\n",
      "Epoch 52/150\n",
      " - 0s - loss: 0.2814 - accuracy: 0.8961\n",
      "Epoch 53/150\n",
      " - 0s - loss: 0.2835 - accuracy: 0.8902\n",
      "Epoch 54/150\n",
      " - 0s - loss: 0.2661 - accuracy: 0.8932\n",
      "Epoch 55/150\n",
      " - 0s - loss: 0.2731 - accuracy: 0.8961\n",
      "Epoch 56/150\n",
      " - 0s - loss: 0.2597 - accuracy: 0.9050\n",
      "Epoch 57/150\n",
      " - 0s - loss: 0.2633 - accuracy: 0.9050\n",
      "Epoch 58/150\n",
      " - 0s - loss: 0.2549 - accuracy: 0.9110\n",
      "Epoch 59/150\n",
      " - 0s - loss: 0.2429 - accuracy: 0.9021\n",
      "Epoch 60/150\n",
      " - 0s - loss: 0.2650 - accuracy: 0.9110\n",
      "Epoch 61/150\n",
      " - 0s - loss: 0.2332 - accuracy: 0.9258\n",
      "Epoch 62/150\n",
      " - 0s - loss: 0.2307 - accuracy: 0.9110\n",
      "Epoch 63/150\n",
      " - 0s - loss: 0.2510 - accuracy: 0.9050\n",
      "Epoch 64/150\n",
      " - 0s - loss: 0.2485 - accuracy: 0.8961\n",
      "Epoch 65/150\n",
      " - 0s - loss: 0.2443 - accuracy: 0.9110\n",
      "Epoch 66/150\n",
      " - 0s - loss: 0.2372 - accuracy: 0.9110\n",
      "Epoch 67/150\n",
      " - 0s - loss: 0.2379 - accuracy: 0.9139\n",
      "Epoch 68/150\n",
      " - 0s - loss: 0.2299 - accuracy: 0.9169\n",
      "Epoch 69/150\n",
      " - 0s - loss: 0.2338 - accuracy: 0.9139\n",
      "Epoch 70/150\n",
      " - 0s - loss: 0.2420 - accuracy: 0.9199\n",
      "Epoch 71/150\n",
      " - 0s - loss: 0.2308 - accuracy: 0.9199\n",
      "Epoch 72/150\n",
      " - 0s - loss: 0.2391 - accuracy: 0.9050\n",
      "Epoch 73/150\n",
      " - 0s - loss: 0.2212 - accuracy: 0.9199\n",
      "Epoch 74/150\n",
      " - 0s - loss: 0.2334 - accuracy: 0.9169\n",
      "Epoch 75/150\n",
      " - 0s - loss: 0.2353 - accuracy: 0.9080\n",
      "Epoch 76/150\n",
      " - 0s - loss: 0.2260 - accuracy: 0.9258\n",
      "Epoch 77/150\n",
      " - 0s - loss: 0.2302 - accuracy: 0.9199\n",
      "Epoch 78/150\n",
      " - 0s - loss: 0.2304 - accuracy: 0.9199\n",
      "Epoch 79/150\n",
      " - 0s - loss: 0.2221 - accuracy: 0.9228\n",
      "Epoch 80/150\n",
      " - 0s - loss: 0.2223 - accuracy: 0.9169\n",
      "Epoch 81/150\n",
      " - 0s - loss: 0.2241 - accuracy: 0.9199\n",
      "Epoch 82/150\n",
      " - 0s - loss: 0.2170 - accuracy: 0.9228\n",
      "Epoch 83/150\n",
      " - 0s - loss: 0.2175 - accuracy: 0.9347\n",
      "Epoch 84/150\n",
      " - 0s - loss: 0.2239 - accuracy: 0.9139\n",
      "Epoch 85/150\n",
      " - 0s - loss: 0.2178 - accuracy: 0.9258\n",
      "Epoch 86/150\n",
      " - 0s - loss: 0.2289 - accuracy: 0.9258\n",
      "Epoch 87/150\n",
      " - 0s - loss: 0.2079 - accuracy: 0.9228\n",
      "Epoch 88/150\n",
      " - 0s - loss: 0.2070 - accuracy: 0.9258\n",
      "Epoch 89/150\n",
      " - 0s - loss: 0.1957 - accuracy: 0.9436\n",
      "Epoch 90/150\n",
      " - 0s - loss: 0.2239 - accuracy: 0.9288\n",
      "Epoch 91/150\n",
      " - 0s - loss: 0.2042 - accuracy: 0.9228\n",
      "Epoch 92/150\n",
      " - 0s - loss: 0.2194 - accuracy: 0.9169\n",
      "Epoch 93/150\n",
      " - 0s - loss: 0.2112 - accuracy: 0.9258\n",
      "Epoch 94/150\n",
      " - 0s - loss: 0.2064 - accuracy: 0.9228\n",
      "Epoch 95/150\n",
      " - 0s - loss: 0.2144 - accuracy: 0.9258\n",
      "Epoch 96/150\n",
      " - 0s - loss: 0.1944 - accuracy: 0.9347\n",
      "Epoch 97/150\n",
      " - 0s - loss: 0.2034 - accuracy: 0.9377\n",
      "Epoch 98/150\n",
      " - 0s - loss: 0.1959 - accuracy: 0.9228\n",
      "Epoch 99/150\n",
      " - 0s - loss: 0.2082 - accuracy: 0.9258\n",
      "Epoch 100/150\n",
      " - 0s - loss: 0.1947 - accuracy: 0.9318\n",
      "Epoch 101/150\n",
      " - 0s - loss: 0.1909 - accuracy: 0.9377\n",
      "Epoch 102/150\n",
      " - 0s - loss: 0.1945 - accuracy: 0.9347\n",
      "Epoch 103/150\n",
      " - 0s - loss: 0.1942 - accuracy: 0.9347\n",
      "Epoch 104/150\n",
      " - 0s - loss: 0.1762 - accuracy: 0.9377\n",
      "Epoch 105/150\n",
      " - 0s - loss: 0.1902 - accuracy: 0.9288\n",
      "Epoch 106/150\n",
      " - 0s - loss: 0.1867 - accuracy: 0.9407\n",
      "Epoch 107/150\n",
      " - 0s - loss: 0.2015 - accuracy: 0.9318\n",
      "Epoch 108/150\n",
      " - 0s - loss: 0.1815 - accuracy: 0.9436\n",
      "Epoch 109/150\n",
      " - 0s - loss: 0.1760 - accuracy: 0.9436\n",
      "Epoch 110/150\n",
      " - 0s - loss: 0.1765 - accuracy: 0.9436\n",
      "Epoch 111/150\n",
      " - 0s - loss: 0.1817 - accuracy: 0.9466\n",
      "Epoch 112/150\n",
      " - 0s - loss: 0.1941 - accuracy: 0.9347\n",
      "Epoch 113/150\n",
      " - 0s - loss: 0.1860 - accuracy: 0.9318\n",
      "Epoch 114/150\n",
      " - 0s - loss: 0.1771 - accuracy: 0.9347\n",
      "Epoch 115/150\n",
      " - 0s - loss: 0.1920 - accuracy: 0.9318\n",
      "Epoch 116/150\n",
      " - 0s - loss: 0.1767 - accuracy: 0.9377\n",
      "Epoch 117/150\n",
      " - 0s - loss: 0.1882 - accuracy: 0.9436\n",
      "Epoch 118/150\n",
      " - 0s - loss: 0.1785 - accuracy: 0.9466\n",
      "Epoch 119/150\n",
      " - 0s - loss: 0.1879 - accuracy: 0.9258\n",
      "Epoch 120/150\n",
      " - 0s - loss: 0.1690 - accuracy: 0.9407\n",
      "Epoch 121/150\n",
      " - 0s - loss: 0.1809 - accuracy: 0.9318\n",
      "Epoch 122/150\n",
      " - 0s - loss: 0.1815 - accuracy: 0.9377\n",
      "Epoch 123/150\n",
      " - 0s - loss: 0.1707 - accuracy: 0.9496\n",
      "Epoch 124/150\n",
      " - 0s - loss: 0.1672 - accuracy: 0.9555\n",
      "Epoch 125/150\n",
      " - 0s - loss: 0.1791 - accuracy: 0.9347\n",
      "Epoch 126/150\n",
      " - 0s - loss: 0.1726 - accuracy: 0.9436\n",
      "Epoch 127/150\n",
      " - 0s - loss: 0.1675 - accuracy: 0.9407\n",
      "Epoch 128/150\n",
      " - 0s - loss: 0.1857 - accuracy: 0.9377\n",
      "Epoch 129/150\n",
      " - 0s - loss: 0.1597 - accuracy: 0.9585\n",
      "Epoch 130/150\n",
      " - 0s - loss: 0.1787 - accuracy: 0.9377\n",
      "Epoch 131/150\n",
      " - 0s - loss: 0.1654 - accuracy: 0.9466\n",
      "Epoch 132/150\n",
      " - 0s - loss: 0.1653 - accuracy: 0.9496\n",
      "Epoch 133/150\n",
      " - 0s - loss: 0.1556 - accuracy: 0.9525\n",
      "Epoch 134/150\n",
      " - 0s - loss: 0.1493 - accuracy: 0.9496\n",
      "Epoch 135/150\n",
      " - 0s - loss: 0.1547 - accuracy: 0.9436\n",
      "Epoch 136/150\n",
      " - 0s - loss: 0.1706 - accuracy: 0.9436\n",
      "Epoch 137/150\n",
      " - 0s - loss: 0.1688 - accuracy: 0.9377\n",
      "Epoch 138/150\n",
      " - 0s - loss: 0.1732 - accuracy: 0.9288\n",
      "Epoch 139/150\n",
      " - 0s - loss: 0.1482 - accuracy: 0.9585\n",
      "Epoch 140/150\n",
      " - 0s - loss: 0.1564 - accuracy: 0.9407\n",
      "Epoch 141/150\n",
      " - 0s - loss: 0.1564 - accuracy: 0.9377\n",
      "Epoch 142/150\n",
      " - 0s - loss: 0.1555 - accuracy: 0.9436\n",
      "Epoch 143/150\n",
      " - 0s - loss: 0.1689 - accuracy: 0.9377\n",
      "Epoch 144/150\n",
      " - 0s - loss: 0.1415 - accuracy: 0.9555\n",
      "Epoch 145/150\n",
      " - 0s - loss: 0.1518 - accuracy: 0.9525\n",
      "Epoch 146/150\n",
      " - 0s - loss: 0.1435 - accuracy: 0.9525\n",
      "Epoch 147/150\n",
      " - 0s - loss: 0.1596 - accuracy: 0.9436\n",
      "Epoch 148/150\n",
      " - 0s - loss: 0.1439 - accuracy: 0.9525\n",
      "Epoch 149/150\n",
      " - 0s - loss: 0.1562 - accuracy: 0.9585\n",
      "Epoch 150/150\n",
      " - 0s - loss: 0.1491 - accuracy: 0.9407\n"
     ]
    },
    {
     "data": {
      "text/plain": [
       "<keras.callbacks.callbacks.History at 0x1e6ef4af408>"
      ]
     },
     "execution_count": 76,
     "metadata": {},
     "output_type": "execute_result"
    }
   ],
   "source": [
    "model.fit(scaled_X_train, y_train, epochs=150, verbose=2)"
   ]
  },
  {
   "cell_type": "code",
   "execution_count": 77,
   "metadata": {},
   "outputs": [
    {
     "data": {
      "text/plain": [
       "array([0, 1, 1, 1, 0, 0, 0, 0, 1, 0, 1, 0, 1, 0, 1, 1, 1, 1, 1, 1, 0, 0,\n",
       "       0, 1, 0, 0, 1, 1, 1, 1, 0, 1, 0, 0, 0, 1, 1, 1, 1, 0, 1, 0, 1, 1,\n",
       "       1, 1, 1, 1, 0, 0, 0, 0, 1, 0, 0, 0, 0, 1, 0, 0, 0, 1, 0, 0, 1, 1,\n",
       "       0, 1, 0, 0, 0, 0, 1, 1, 0, 0, 1, 1, 0, 0, 1, 0, 0, 1, 0, 0, 1, 0,\n",
       "       0, 1, 1, 1, 0, 0, 0, 0, 0, 0, 1, 1, 1, 0, 1, 1, 0, 1, 0, 0, 0, 0,\n",
       "       0, 0, 0, 0, 1, 0, 0, 1, 0, 1, 0, 0, 0, 0, 0, 0, 1, 0, 1, 0, 1, 0,\n",
       "       0, 0, 0, 1, 1, 1, 0, 0, 0, 0, 1, 1, 1, 1, 1, 1, 1, 0, 0, 0, 1, 0,\n",
       "       1, 0, 0, 0, 1, 1, 0, 0, 1, 1, 0, 0, 0], dtype=int64)"
      ]
     },
     "execution_count": 77,
     "metadata": {},
     "output_type": "execute_result"
    }
   ],
   "source": [
    "# Spits out probabilities by default.\n",
    "model.predict_classes(scaled_X_test)"
   ]
  },
  {
   "cell_type": "code",
   "execution_count": 78,
   "metadata": {},
   "outputs": [
    {
     "name": "stdout",
     "output_type": "stream",
     "text": [
      "167/167 [==============================] - 0s 389us/step\n"
     ]
    },
    {
     "data": {
      "text/plain": [
       "[0.26061168446869193, 0.946107804775238]"
      ]
     },
     "execution_count": 78,
     "metadata": {},
     "output_type": "execute_result"
    }
   ],
   "source": [
    "model.evaluate(x=scaled_X_test, y=y_test)"
   ]
  },
  {
   "cell_type": "code",
   "execution_count": 79,
   "metadata": {},
   "outputs": [],
   "source": [
    "from sklearn.metrics import confusion_matrix, classification_report, accuracy_score"
   ]
  },
  {
   "cell_type": "code",
   "execution_count": 80,
   "metadata": {},
   "outputs": [],
   "source": [
    "predictions = model.predict_classes(scaled_X_test)"
   ]
  },
  {
   "cell_type": "code",
   "execution_count": 81,
   "metadata": {},
   "outputs": [
    {
     "data": {
      "text/plain": [
       "array([0, 1, 1, 1, 0, 0, 0, 0, 1, 0, 1, 0, 1, 0, 1, 1, 1, 1, 1, 1, 0, 0,\n",
       "       0, 1, 0, 0, 1, 1, 1, 1, 0, 1, 0, 0, 0, 1, 1, 1, 1, 0, 1, 0, 1, 1,\n",
       "       1, 1, 1, 1, 0, 0, 0, 0, 1, 0, 0, 0, 0, 1, 0, 0, 0, 1, 0, 0, 1, 1,\n",
       "       0, 1, 0, 0, 0, 0, 1, 1, 0, 0, 1, 1, 0, 0, 1, 0, 0, 1, 0, 0, 1, 0,\n",
       "       0, 1, 1, 1, 0, 0, 0, 0, 0, 0, 1, 1, 1, 0, 1, 1, 0, 1, 0, 0, 0, 0,\n",
       "       0, 0, 0, 0, 1, 0, 0, 1, 0, 1, 0, 0, 0, 0, 0, 0, 1, 0, 1, 0, 1, 0,\n",
       "       0, 0, 0, 1, 1, 1, 0, 0, 0, 0, 1, 1, 1, 1, 1, 1, 1, 0, 0, 0, 1, 0,\n",
       "       1, 0, 0, 0, 1, 1, 0, 0, 1, 1, 0, 0, 0], dtype=int64)"
      ]
     },
     "execution_count": 81,
     "metadata": {},
     "output_type": "execute_result"
    }
   ],
   "source": [
    "predictions"
   ]
  },
  {
   "cell_type": "code",
   "execution_count": 67,
   "metadata": {},
   "outputs": [
    {
     "data": {
      "text/plain": [
       "array([0, 1, 1, 0, 0, 0, 0, 0, 1, 0, 1, 0, 0, 0, 1, 1, 1, 1, 1, 1, 0, 0,\n",
       "       0, 1, 0, 0, 1, 1, 0, 1, 0, 1, 0, 0, 0, 1, 1, 1, 1, 0, 1, 0, 1, 1,\n",
       "       1, 1, 0, 1, 0, 0, 0, 0, 1, 0, 0, 0, 0, 1, 0, 0, 0, 1, 0, 0, 1, 1,\n",
       "       0, 1, 1, 0, 0, 0, 1, 1, 0, 0, 1, 1, 0, 0, 1, 0, 0, 1, 0, 0, 1, 0,\n",
       "       0, 1, 1, 1, 0, 0, 0, 0, 0, 0, 1, 0, 1, 0, 1, 1, 0, 1, 0, 0, 0, 0,\n",
       "       0, 0, 0, 0, 0, 0, 0, 1, 0, 1, 0, 0, 0, 0, 0, 0, 1, 0, 1, 0, 1, 0,\n",
       "       0, 0, 0, 1, 1, 1, 0, 0, 0, 0, 1, 1, 1, 1, 0, 1, 1, 0, 0, 0, 1, 0,\n",
       "       0, 0, 0, 0, 1, 1, 0, 0, 1, 1, 0, 0, 0], dtype=int64)"
      ]
     },
     "execution_count": 67,
     "metadata": {},
     "output_type": "execute_result"
    }
   ],
   "source": [
    "# If you use only predictions it will return scaled values between 0 and 1 due to MinMaxScaler... possible\n",
    "# workaround below\n",
    "y_test.argmax(axis=1)"
   ]
  },
  {
   "cell_type": "code",
   "execution_count": 68,
   "metadata": {},
   "outputs": [
    {
     "name": "stdout",
     "output_type": "stream",
     "text": [
      "[[93  8]\n",
      " [ 2 64]]\n"
     ]
    }
   ],
   "source": [
    "print(confusion_matrix(y_test.argmax(axis=1), predictions))"
   ]
  },
  {
   "cell_type": "code",
   "execution_count": 69,
   "metadata": {},
   "outputs": [
    {
     "name": "stdout",
     "output_type": "stream",
     "text": [
      "              precision    recall  f1-score   support\n",
      "\n",
      "           0       0.98      0.92      0.95       101\n",
      "           1       0.89      0.97      0.93        66\n",
      "\n",
      "   micro avg       0.94      0.94      0.94       167\n",
      "   macro avg       0.93      0.95      0.94       167\n",
      "weighted avg       0.94      0.94      0.94       167\n",
      "\n"
     ]
    }
   ],
   "source": [
    "print(classification_report(y_test.argmax(axis=1), predictions))"
   ]
  },
  {
   "cell_type": "code",
   "execution_count": 70,
   "metadata": {},
   "outputs": [
    {
     "name": "stdout",
     "output_type": "stream",
     "text": [
      "Model accuracy:  0.9401197604790419 %\n"
     ]
    }
   ],
   "source": [
    "print(\"Model accuracy: \", accuracy_score(y_test.argmax(axis=1), predictions), \"%\")"
   ]
  },
  {
   "cell_type": "code",
   "execution_count": 27,
   "metadata": {},
   "outputs": [],
   "source": [
    "# Save the Neural Network model architecture\n",
    "now = datetime.now()\n",
    "current_time = now.strftime(\"%d%m%Y_%H%M%S\")\n",
    "\n",
    "# Create logic to create folder structure if it doesn't exist!\n",
    "model.save(f\"train_{current_time}_model.h5\")"
   ]
  },
  {
   "cell_type": "code",
   "execution_count": 28,
   "metadata": {},
   "outputs": [],
   "source": [
    "# TODO (URGENTE!!)\n",
    "# Verificar os scripts de pre-processamento e ajustar a seleção de features para não remover\n",
    "# a coluna evadido... (Apenas forward apresentou o problema)"
   ]
  },
  {
   "cell_type": "code",
   "execution_count": null,
   "metadata": {},
   "outputs": [],
   "source": []
  },
  {
   "cell_type": "code",
   "execution_count": null,
   "metadata": {},
   "outputs": [],
   "source": []
  }
 ],
 "metadata": {
  "kernelspec": {
   "display_name": "Python 3",
   "language": "python",
   "name": "python3"
  },
  "language_info": {
   "codemirror_mode": {
    "name": "ipython",
    "version": 3
   },
   "file_extension": ".py",
   "mimetype": "text/x-python",
   "name": "python",
   "nbconvert_exporter": "python",
   "pygments_lexer": "ipython3",
   "version": "3.7.9"
  }
 },
 "nbformat": 4,
 "nbformat_minor": 4
}
