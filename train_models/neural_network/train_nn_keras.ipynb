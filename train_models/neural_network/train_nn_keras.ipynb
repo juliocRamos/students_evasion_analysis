{
 "cells": [
  {
   "cell_type": "code",
   "execution_count": 2,
   "metadata": {},
   "outputs": [
    {
     "ename": "ModuleNotFoundError",
     "evalue": "No module named 'keras'",
     "output_type": "error",
     "traceback": [
      "\u001b[0;31m---------------------------------------------------------------------------\u001b[0m",
      "\u001b[0;31mModuleNotFoundError\u001b[0m                       Traceback (most recent call last)",
      "\u001b[0;32m<ipython-input-2-2ee93c255bbd>\u001b[0m in \u001b[0;36m<module>\u001b[0;34m\u001b[0m\n\u001b[1;32m      3\u001b[0m \u001b[0;32mimport\u001b[0m \u001b[0mpandas\u001b[0m \u001b[0;32mas\u001b[0m \u001b[0mpd\u001b[0m\u001b[0;34m\u001b[0m\u001b[0;34m\u001b[0m\u001b[0m\n\u001b[1;32m      4\u001b[0m \u001b[0;32mfrom\u001b[0m \u001b[0mdatetime\u001b[0m \u001b[0;32mimport\u001b[0m \u001b[0mdatetime\u001b[0m\u001b[0;34m\u001b[0m\u001b[0;34m\u001b[0m\u001b[0m\n\u001b[0;32m----> 5\u001b[0;31m \u001b[0;32mfrom\u001b[0m \u001b[0mkeras\u001b[0m\u001b[0;34m.\u001b[0m\u001b[0mutils\u001b[0m \u001b[0;32mimport\u001b[0m \u001b[0mto_categorical\u001b[0m\u001b[0;34m\u001b[0m\u001b[0;34m\u001b[0m\u001b[0m\n\u001b[0m\u001b[1;32m      6\u001b[0m \u001b[0;32mfrom\u001b[0m \u001b[0mkeras\u001b[0m\u001b[0;34m.\u001b[0m\u001b[0mutils\u001b[0m\u001b[0;34m.\u001b[0m\u001b[0mvis_utils\u001b[0m \u001b[0;32mimport\u001b[0m \u001b[0mplot_model\u001b[0m\u001b[0;34m\u001b[0m\u001b[0;34m\u001b[0m\u001b[0m\n\u001b[1;32m      7\u001b[0m \u001b[0;32mfrom\u001b[0m \u001b[0msklearn\u001b[0m\u001b[0;34m.\u001b[0m\u001b[0mmodel_selection\u001b[0m \u001b[0;32mimport\u001b[0m \u001b[0mtrain_test_split\u001b[0m\u001b[0;34m\u001b[0m\u001b[0;34m\u001b[0m\u001b[0m\n",
      "\u001b[0;31mModuleNotFoundError\u001b[0m: No module named 'keras'"
     ]
    }
   ],
   "source": [
    "# imports\n",
    "import numpy as np\n",
    "import pandas as pd\n",
    "from datetime import datetime\n",
    "from keras.utils import to_categorical\n",
    "from keras.utils.vis_utils import plot_model\n",
    "from sklearn.model_selection import train_test_split\n",
    "from sklearn.preprocessing import MinMaxScaler\n",
    "from keras.utils import to_categorical, plot_model\n",
    "import pydot\n",
    "##TensorBoard\n",
    "import tensorflow as tf\n",
    "import datetime, os"
   ]
  },
  {
   "cell_type": "code",
   "execution_count": 113,
   "metadata": {},
   "outputs": [],
   "source": [
    "# %load_ext tensorboard\n",
    "%reload_ext tensorboard"
   ]
  },
  {
   "cell_type": "code",
   "execution_count": 1,
   "metadata": {},
   "outputs": [
    {
     "ename": "NameError",
     "evalue": "name 'pd' is not defined",
     "output_type": "error",
     "traceback": [
      "\u001b[0;31m---------------------------------------------------------------------------\u001b[0m",
      "\u001b[0;31mNameError\u001b[0m                                 Traceback (most recent call last)",
      "\u001b[0;32m<ipython-input-1-2e62b56bdd9d>\u001b[0m in \u001b[0;36m<module>\u001b[0;34m\u001b[0m\n\u001b[0;32m----> 1\u001b[0;31m \u001b[0mdf\u001b[0m \u001b[0;34m=\u001b[0m \u001b[0mpd\u001b[0m\u001b[0;34m.\u001b[0m\u001b[0mread_csv\u001b[0m\u001b[0;34m(\u001b[0m\u001b[0;34m\"../../pre_processing/datasets/pre_processed_analysis.csv\"\u001b[0m\u001b[0;34m,\u001b[0m \u001b[0msep\u001b[0m\u001b[0;34m=\u001b[0m\u001b[0;34m\",\"\u001b[0m\u001b[0;34m)\u001b[0m\u001b[0;34m\u001b[0m\u001b[0;34m\u001b[0m\u001b[0m\n\u001b[0m",
      "\u001b[0;31mNameError\u001b[0m: name 'pd' is not defined"
     ]
    }
   ],
   "source": [
    "df = pd.read_csv(\"../../pre_processing/datasets/backward_filtered_analysis.csv\", sep=\",\")"
   ]
  },
  {
   "cell_type": "code",
   "execution_count": 93,
   "metadata": {},
   "outputs": [
    {
     "data": {
      "text/html": [
       "<div>\n",
       "<style scoped>\n",
       "    .dataframe tbody tr th:only-of-type {\n",
       "        vertical-align: middle;\n",
       "    }\n",
       "\n",
       "    .dataframe tbody tr th {\n",
       "        vertical-align: top;\n",
       "    }\n",
       "\n",
       "    .dataframe thead th {\n",
       "        text-align: right;\n",
       "    }\n",
       "</style>\n",
       "<table border=\"1\" class=\"dataframe\">\n",
       "  <thead>\n",
       "    <tr style=\"text-align: right;\">\n",
       "      <th></th>\n",
       "      <th>EVADIDO</th>\n",
       "      <th>BOLSISTA</th>\n",
       "      <th>GRADE_CORRENTE</th>\n",
       "      <th>NOTA_MEDIA</th>\n",
       "      <th>TOT_MAT_CURSADAS</th>\n",
       "      <th>TOT_APROVACOES</th>\n",
       "      <th>TOT_REPROVACOES</th>\n",
       "      <th>TOT_REPROV_FREQ</th>\n",
       "      <th>SIF001</th>\n",
       "      <th>SIF002</th>\n",
       "      <th>...</th>\n",
       "      <th>SIF042</th>\n",
       "      <th>SIF043</th>\n",
       "      <th>SIF047</th>\n",
       "      <th>SIF049</th>\n",
       "      <th>SIF058</th>\n",
       "      <th>SIF063</th>\n",
       "      <th>SIF064</th>\n",
       "      <th>SIF029</th>\n",
       "      <th>SIF006</th>\n",
       "      <th>SIF073</th>\n",
       "    </tr>\n",
       "  </thead>\n",
       "  <tbody>\n",
       "    <tr>\n",
       "      <th>0</th>\n",
       "      <td>0</td>\n",
       "      <td>1</td>\n",
       "      <td>2019</td>\n",
       "      <td>7.0</td>\n",
       "      <td>10</td>\n",
       "      <td>9</td>\n",
       "      <td>1</td>\n",
       "      <td>0</td>\n",
       "      <td>1</td>\n",
       "      <td>1</td>\n",
       "      <td>...</td>\n",
       "      <td>0</td>\n",
       "      <td>0</td>\n",
       "      <td>0</td>\n",
       "      <td>0</td>\n",
       "      <td>0</td>\n",
       "      <td>1</td>\n",
       "      <td>1</td>\n",
       "      <td>4</td>\n",
       "      <td>0</td>\n",
       "      <td>1</td>\n",
       "    </tr>\n",
       "    <tr>\n",
       "      <th>1</th>\n",
       "      <td>1</td>\n",
       "      <td>1</td>\n",
       "      <td>2016</td>\n",
       "      <td>5.5</td>\n",
       "      <td>18</td>\n",
       "      <td>15</td>\n",
       "      <td>3</td>\n",
       "      <td>3</td>\n",
       "      <td>1</td>\n",
       "      <td>1</td>\n",
       "      <td>...</td>\n",
       "      <td>1</td>\n",
       "      <td>0</td>\n",
       "      <td>0</td>\n",
       "      <td>0</td>\n",
       "      <td>0</td>\n",
       "      <td>1</td>\n",
       "      <td>1</td>\n",
       "      <td>0</td>\n",
       "      <td>1</td>\n",
       "      <td>0</td>\n",
       "    </tr>\n",
       "    <tr>\n",
       "      <th>2</th>\n",
       "      <td>1</td>\n",
       "      <td>0</td>\n",
       "      <td>2014</td>\n",
       "      <td>3.0</td>\n",
       "      <td>12</td>\n",
       "      <td>6</td>\n",
       "      <td>6</td>\n",
       "      <td>0</td>\n",
       "      <td>1</td>\n",
       "      <td>1</td>\n",
       "      <td>...</td>\n",
       "      <td>0</td>\n",
       "      <td>0</td>\n",
       "      <td>0</td>\n",
       "      <td>0</td>\n",
       "      <td>0</td>\n",
       "      <td>0</td>\n",
       "      <td>4</td>\n",
       "      <td>0</td>\n",
       "      <td>4</td>\n",
       "      <td>0</td>\n",
       "    </tr>\n",
       "    <tr>\n",
       "      <th>3</th>\n",
       "      <td>1</td>\n",
       "      <td>1</td>\n",
       "      <td>2014</td>\n",
       "      <td>5.1</td>\n",
       "      <td>49</td>\n",
       "      <td>37</td>\n",
       "      <td>12</td>\n",
       "      <td>10</td>\n",
       "      <td>1</td>\n",
       "      <td>1</td>\n",
       "      <td>...</td>\n",
       "      <td>1</td>\n",
       "      <td>1</td>\n",
       "      <td>1</td>\n",
       "      <td>1</td>\n",
       "      <td>1</td>\n",
       "      <td>1</td>\n",
       "      <td>1</td>\n",
       "      <td>1</td>\n",
       "      <td>1</td>\n",
       "      <td>0</td>\n",
       "    </tr>\n",
       "    <tr>\n",
       "      <th>4</th>\n",
       "      <td>0</td>\n",
       "      <td>1</td>\n",
       "      <td>2019</td>\n",
       "      <td>5.4</td>\n",
       "      <td>10</td>\n",
       "      <td>8</td>\n",
       "      <td>2</td>\n",
       "      <td>2</td>\n",
       "      <td>1</td>\n",
       "      <td>1</td>\n",
       "      <td>...</td>\n",
       "      <td>0</td>\n",
       "      <td>0</td>\n",
       "      <td>0</td>\n",
       "      <td>0</td>\n",
       "      <td>0</td>\n",
       "      <td>0</td>\n",
       "      <td>1</td>\n",
       "      <td>0</td>\n",
       "      <td>0</td>\n",
       "      <td>1</td>\n",
       "    </tr>\n",
       "  </tbody>\n",
       "</table>\n",
       "<p>5 rows × 25 columns</p>\n",
       "</div>"
      ],
      "text/plain": [
       "   EVADIDO  BOLSISTA  GRADE_CORRENTE  NOTA_MEDIA  TOT_MAT_CURSADAS  \\\n",
       "0        0         1            2019         7.0                10   \n",
       "1        1         1            2016         5.5                18   \n",
       "2        1         0            2014         3.0                12   \n",
       "3        1         1            2014         5.1                49   \n",
       "4        0         1            2019         5.4                10   \n",
       "\n",
       "   TOT_APROVACOES  TOT_REPROVACOES  TOT_REPROV_FREQ  SIF001  SIF002  ...  \\\n",
       "0               9                1                0       1       1  ...   \n",
       "1              15                3                3       1       1  ...   \n",
       "2               6                6                0       1       1  ...   \n",
       "3              37               12               10       1       1  ...   \n",
       "4               8                2                2       1       1  ...   \n",
       "\n",
       "   SIF042  SIF043  SIF047  SIF049  SIF058  SIF063  SIF064  SIF029  SIF006  \\\n",
       "0       0       0       0       0       0       1       1       4       0   \n",
       "1       1       0       0       0       0       1       1       0       1   \n",
       "2       0       0       0       0       0       0       4       0       4   \n",
       "3       1       1       1       1       1       1       1       1       1   \n",
       "4       0       0       0       0       0       0       1       0       0   \n",
       "\n",
       "   SIF073  \n",
       "0       1  \n",
       "1       0  \n",
       "2       0  \n",
       "3       0  \n",
       "4       1  \n",
       "\n",
       "[5 rows x 25 columns]"
      ]
     },
     "execution_count": 93,
     "metadata": {},
     "output_type": "execute_result"
    }
   ],
   "source": [
    "df.head()"
   ]
  },
  {
   "cell_type": "code",
   "execution_count": 94,
   "metadata": {},
   "outputs": [
    {
     "ename": "KeyError",
     "evalue": "\"['RA'] not found in axis\"",
     "output_type": "error",
     "traceback": [
      "\u001b[0;31m---------------------------------------------------------------------------\u001b[0m",
      "\u001b[0;31mKeyError\u001b[0m                                  Traceback (most recent call last)",
      "\u001b[0;32m<ipython-input-94-6aaea16f527e>\u001b[0m in \u001b[0;36m<module>\u001b[0;34m\u001b[0m\n\u001b[1;32m      1\u001b[0m \u001b[0;31m# Dropo a coluna de RA\u001b[0m\u001b[0;34m\u001b[0m\u001b[0;34m\u001b[0m\u001b[0;34m\u001b[0m\u001b[0m\n\u001b[0;32m----> 2\u001b[0;31m \u001b[0mdf\u001b[0m\u001b[0;34m.\u001b[0m\u001b[0mdrop\u001b[0m\u001b[0;34m(\u001b[0m\u001b[0;34m\"RA\"\u001b[0m\u001b[0;34m,\u001b[0m \u001b[0maxis\u001b[0m\u001b[0;34m=\u001b[0m\u001b[0;36m1\u001b[0m\u001b[0;34m,\u001b[0m \u001b[0minplace\u001b[0m\u001b[0;34m=\u001b[0m\u001b[0;32mTrue\u001b[0m\u001b[0;34m)\u001b[0m\u001b[0;34m\u001b[0m\u001b[0;34m\u001b[0m\u001b[0m\n\u001b[0m",
      "\u001b[0;32m~/anaconda3/lib/python3.7/site-packages/pandas/core/frame.py\u001b[0m in \u001b[0;36mdrop\u001b[0;34m(self, labels, axis, index, columns, level, inplace, errors)\u001b[0m\n\u001b[1;32m   3938\u001b[0m                                            \u001b[0mindex\u001b[0m\u001b[0;34m=\u001b[0m\u001b[0mindex\u001b[0m\u001b[0;34m,\u001b[0m \u001b[0mcolumns\u001b[0m\u001b[0;34m=\u001b[0m\u001b[0mcolumns\u001b[0m\u001b[0;34m,\u001b[0m\u001b[0;34m\u001b[0m\u001b[0;34m\u001b[0m\u001b[0m\n\u001b[1;32m   3939\u001b[0m                                            \u001b[0mlevel\u001b[0m\u001b[0;34m=\u001b[0m\u001b[0mlevel\u001b[0m\u001b[0;34m,\u001b[0m \u001b[0minplace\u001b[0m\u001b[0;34m=\u001b[0m\u001b[0minplace\u001b[0m\u001b[0;34m,\u001b[0m\u001b[0;34m\u001b[0m\u001b[0;34m\u001b[0m\u001b[0m\n\u001b[0;32m-> 3940\u001b[0;31m                                            errors=errors)\n\u001b[0m\u001b[1;32m   3941\u001b[0m \u001b[0;34m\u001b[0m\u001b[0m\n\u001b[1;32m   3942\u001b[0m     @rewrite_axis_style_signature('mapper', [('copy', True),\n",
      "\u001b[0;32m~/anaconda3/lib/python3.7/site-packages/pandas/core/generic.py\u001b[0m in \u001b[0;36mdrop\u001b[0;34m(self, labels, axis, index, columns, level, inplace, errors)\u001b[0m\n\u001b[1;32m   3778\u001b[0m         \u001b[0;32mfor\u001b[0m \u001b[0maxis\u001b[0m\u001b[0;34m,\u001b[0m \u001b[0mlabels\u001b[0m \u001b[0;32min\u001b[0m \u001b[0maxes\u001b[0m\u001b[0;34m.\u001b[0m\u001b[0mitems\u001b[0m\u001b[0;34m(\u001b[0m\u001b[0;34m)\u001b[0m\u001b[0;34m:\u001b[0m\u001b[0;34m\u001b[0m\u001b[0;34m\u001b[0m\u001b[0m\n\u001b[1;32m   3779\u001b[0m             \u001b[0;32mif\u001b[0m \u001b[0mlabels\u001b[0m \u001b[0;32mis\u001b[0m \u001b[0;32mnot\u001b[0m \u001b[0;32mNone\u001b[0m\u001b[0;34m:\u001b[0m\u001b[0;34m\u001b[0m\u001b[0;34m\u001b[0m\u001b[0m\n\u001b[0;32m-> 3780\u001b[0;31m                 \u001b[0mobj\u001b[0m \u001b[0;34m=\u001b[0m \u001b[0mobj\u001b[0m\u001b[0;34m.\u001b[0m\u001b[0m_drop_axis\u001b[0m\u001b[0;34m(\u001b[0m\u001b[0mlabels\u001b[0m\u001b[0;34m,\u001b[0m \u001b[0maxis\u001b[0m\u001b[0;34m,\u001b[0m \u001b[0mlevel\u001b[0m\u001b[0;34m=\u001b[0m\u001b[0mlevel\u001b[0m\u001b[0;34m,\u001b[0m \u001b[0merrors\u001b[0m\u001b[0;34m=\u001b[0m\u001b[0merrors\u001b[0m\u001b[0;34m)\u001b[0m\u001b[0;34m\u001b[0m\u001b[0;34m\u001b[0m\u001b[0m\n\u001b[0m\u001b[1;32m   3781\u001b[0m \u001b[0;34m\u001b[0m\u001b[0m\n\u001b[1;32m   3782\u001b[0m         \u001b[0;32mif\u001b[0m \u001b[0minplace\u001b[0m\u001b[0;34m:\u001b[0m\u001b[0;34m\u001b[0m\u001b[0;34m\u001b[0m\u001b[0m\n",
      "\u001b[0;32m~/anaconda3/lib/python3.7/site-packages/pandas/core/generic.py\u001b[0m in \u001b[0;36m_drop_axis\u001b[0;34m(self, labels, axis, level, errors)\u001b[0m\n\u001b[1;32m   3810\u001b[0m                 \u001b[0mnew_axis\u001b[0m \u001b[0;34m=\u001b[0m \u001b[0maxis\u001b[0m\u001b[0;34m.\u001b[0m\u001b[0mdrop\u001b[0m\u001b[0;34m(\u001b[0m\u001b[0mlabels\u001b[0m\u001b[0;34m,\u001b[0m \u001b[0mlevel\u001b[0m\u001b[0;34m=\u001b[0m\u001b[0mlevel\u001b[0m\u001b[0;34m,\u001b[0m \u001b[0merrors\u001b[0m\u001b[0;34m=\u001b[0m\u001b[0merrors\u001b[0m\u001b[0;34m)\u001b[0m\u001b[0;34m\u001b[0m\u001b[0;34m\u001b[0m\u001b[0m\n\u001b[1;32m   3811\u001b[0m             \u001b[0;32melse\u001b[0m\u001b[0;34m:\u001b[0m\u001b[0;34m\u001b[0m\u001b[0;34m\u001b[0m\u001b[0m\n\u001b[0;32m-> 3812\u001b[0;31m                 \u001b[0mnew_axis\u001b[0m \u001b[0;34m=\u001b[0m \u001b[0maxis\u001b[0m\u001b[0;34m.\u001b[0m\u001b[0mdrop\u001b[0m\u001b[0;34m(\u001b[0m\u001b[0mlabels\u001b[0m\u001b[0;34m,\u001b[0m \u001b[0merrors\u001b[0m\u001b[0;34m=\u001b[0m\u001b[0merrors\u001b[0m\u001b[0;34m)\u001b[0m\u001b[0;34m\u001b[0m\u001b[0;34m\u001b[0m\u001b[0m\n\u001b[0m\u001b[1;32m   3813\u001b[0m             \u001b[0mresult\u001b[0m \u001b[0;34m=\u001b[0m \u001b[0mself\u001b[0m\u001b[0;34m.\u001b[0m\u001b[0mreindex\u001b[0m\u001b[0;34m(\u001b[0m\u001b[0;34m**\u001b[0m\u001b[0;34m{\u001b[0m\u001b[0maxis_name\u001b[0m\u001b[0;34m:\u001b[0m \u001b[0mnew_axis\u001b[0m\u001b[0;34m}\u001b[0m\u001b[0;34m)\u001b[0m\u001b[0;34m\u001b[0m\u001b[0;34m\u001b[0m\u001b[0m\n\u001b[1;32m   3814\u001b[0m \u001b[0;34m\u001b[0m\u001b[0m\n",
      "\u001b[0;32m~/anaconda3/lib/python3.7/site-packages/pandas/core/indexes/base.py\u001b[0m in \u001b[0;36mdrop\u001b[0;34m(self, labels, errors)\u001b[0m\n\u001b[1;32m   4963\u001b[0m             \u001b[0;32mif\u001b[0m \u001b[0merrors\u001b[0m \u001b[0;34m!=\u001b[0m \u001b[0;34m'ignore'\u001b[0m\u001b[0;34m:\u001b[0m\u001b[0;34m\u001b[0m\u001b[0;34m\u001b[0m\u001b[0m\n\u001b[1;32m   4964\u001b[0m                 raise KeyError(\n\u001b[0;32m-> 4965\u001b[0;31m                     '{} not found in axis'.format(labels[mask]))\n\u001b[0m\u001b[1;32m   4966\u001b[0m             \u001b[0mindexer\u001b[0m \u001b[0;34m=\u001b[0m \u001b[0mindexer\u001b[0m\u001b[0;34m[\u001b[0m\u001b[0;34m~\u001b[0m\u001b[0mmask\u001b[0m\u001b[0;34m]\u001b[0m\u001b[0;34m\u001b[0m\u001b[0;34m\u001b[0m\u001b[0m\n\u001b[1;32m   4967\u001b[0m         \u001b[0;32mreturn\u001b[0m \u001b[0mself\u001b[0m\u001b[0;34m.\u001b[0m\u001b[0mdelete\u001b[0m\u001b[0;34m(\u001b[0m\u001b[0mindexer\u001b[0m\u001b[0;34m)\u001b[0m\u001b[0;34m\u001b[0m\u001b[0;34m\u001b[0m\u001b[0m\n",
      "\u001b[0;31mKeyError\u001b[0m: \"['RA'] not found in axis\""
     ]
    }
   ],
   "source": [
    "# Dropo a coluna de RA\n",
    "df.drop(\"RA\", axis=1, inplace=True)"
   ]
  },
  {
   "cell_type": "code",
   "execution_count": 95,
   "metadata": {},
   "outputs": [],
   "source": [
    "X = df.iloc[:, df.columns != \"EVADIDO\"].values"
   ]
  },
  {
   "cell_type": "code",
   "execution_count": 96,
   "metadata": {},
   "outputs": [],
   "source": [
    "y = df[\"EVADIDO\"]"
   ]
  },
  {
   "cell_type": "code",
   "execution_count": 97,
   "metadata": {},
   "outputs": [],
   "source": [
    "y = to_categorical(y)"
   ]
  },
  {
   "cell_type": "code",
   "execution_count": 98,
   "metadata": {},
   "outputs": [],
   "source": [
    "X_train, X_test, y_train, y_test = train_test_split(X, y, test_size=0.33, random_state=42)"
   ]
  },
  {
   "cell_type": "code",
   "execution_count": 99,
   "metadata": {},
   "outputs": [],
   "source": [
    "scaler_object = MinMaxScaler()"
   ]
  },
  {
   "cell_type": "code",
   "execution_count": 100,
   "metadata": {},
   "outputs": [
    {
     "data": {
      "text/plain": [
       "MinMaxScaler(copy=True, feature_range=(0, 1))"
      ]
     },
     "execution_count": 100,
     "metadata": {},
     "output_type": "execute_result"
    }
   ],
   "source": [
    "# TODO: Converd years to timestamp to scale after\n",
    "scaler_object.fit(X_train)"
   ]
  },
  {
   "cell_type": "code",
   "execution_count": 101,
   "metadata": {},
   "outputs": [],
   "source": [
    "scaled_X_train = scaler_object.transform(X_train)"
   ]
  },
  {
   "cell_type": "code",
   "execution_count": 102,
   "metadata": {},
   "outputs": [],
   "source": [
    "scaled_X_test = scaler_object.transform(X_test)"
   ]
  },
  {
   "cell_type": "code",
   "execution_count": 103,
   "metadata": {},
   "outputs": [],
   "source": [
    "from keras.models import Sequential\n",
    "from keras.layers import Dense"
   ]
  },
  {
   "cell_type": "code",
   "execution_count": 114,
   "metadata": {},
   "outputs": [],
   "source": [
    "# Configurate neural network features (layers, layer density, etc)\n",
    "model = Sequential()\n",
    "model.add(Dense(units=8, input_dim=24, activation='relu'))\n",
    "model.add(Dense(units=8, input_dim=24, activation='relu'))\n",
    "model.add(Dense(units=2, activation='softmax'))\n",
    "model.compile(loss='categorical_crossentropy', optimizer = 'adam', metrics=['accuracy'])\n",
    "\n",
    "log_dir = os.path.join(\"logs/fit/\", datetime.datetime.now().strftime(\"%Y%m%d-%H%M%S\"))\n",
    "tensorboard_callback = tf.keras.callbacks.TensorBoard(log_dir=log_dir)\n"
   ]
  },
  {
   "cell_type": "code",
   "execution_count": 106,
   "metadata": {},
   "outputs": [
    {
     "name": "stdout",
     "output_type": "stream",
     "text": [
      "Model: \"sequential_7\"\n",
      "_________________________________________________________________\n",
      "Layer (type)                 Output Shape              Param #   \n",
      "=================================================================\n",
      "dense_19 (Dense)             (None, 8)                 200       \n",
      "_________________________________________________________________\n",
      "dense_20 (Dense)             (None, 8)                 72        \n",
      "_________________________________________________________________\n",
      "dense_21 (Dense)             (None, 2)                 18        \n",
      "=================================================================\n",
      "Total params: 290\n",
      "Trainable params: 290\n",
      "Non-trainable params: 0\n",
      "_________________________________________________________________\n"
     ]
    },
    {
     "data": {
      "image/png": "[encoded data removed]",
      "text/plain": [
       "<IPython.core.display.Image object>"
      ]
     },
     "execution_count": 106,
     "metadata": {},
     "output_type": "execute_result"
    }
   ],
   "source": [
    "# NN summary\n",
    "model.summary()\n",
    "plot_model(model, to_file='model_plot.png', show_shapes=True, show_layer_names=True) # not running on windows"
   ]
  },
  {
   "cell_type": "code",
   "execution_count": 117,
   "metadata": {},
   "outputs": [
    {
     "name": "stdout",
     "output_type": "stream",
     "text": [
      "Epoch 1/150\n",
      " - 0s - loss: 0.1778 - accuracy: 0.9258\n",
      "Epoch 2/150\n",
      " - 0s - loss: 0.1777 - accuracy: 0.9258\n",
      "Epoch 3/150\n",
      " - 0s - loss: 0.1776 - accuracy: 0.9288\n",
      "Epoch 4/150\n",
      " - 0s - loss: 0.1763 - accuracy: 0.9258\n",
      "Epoch 5/150\n",
      " - 0s - loss: 0.1759 - accuracy: 0.9288\n",
      "Epoch 6/150\n",
      " - 0s - loss: 0.1775 - accuracy: 0.9258\n",
      "Epoch 7/150\n",
      " - 0s - loss: 0.1755 - accuracy: 0.9288\n",
      "Epoch 8/150\n",
      " - 0s - loss: 0.1762 - accuracy: 0.9288\n",
      "Epoch 9/150\n",
      " - 0s - loss: 0.1739 - accuracy: 0.9258\n",
      "Epoch 10/150\n",
      " - 0s - loss: 0.1774 - accuracy: 0.9288\n",
      "Epoch 11/150\n",
      " - 0s - loss: 0.1821 - accuracy: 0.9228\n",
      "Epoch 12/150\n",
      " - 0s - loss: 0.1733 - accuracy: 0.9318\n",
      "Epoch 13/150\n",
      " - 0s - loss: 0.1742 - accuracy: 0.9407\n",
      "Epoch 14/150\n",
      " - 0s - loss: 0.1731 - accuracy: 0.9288\n",
      "Epoch 15/150\n",
      " - 0s - loss: 0.1734 - accuracy: 0.9258\n",
      "Epoch 16/150\n",
      " - 0s - loss: 0.1732 - accuracy: 0.9377\n",
      "Epoch 17/150\n",
      " - 0s - loss: 0.1735 - accuracy: 0.9258\n",
      "Epoch 18/150\n",
      " - 0s - loss: 0.1739 - accuracy: 0.9318\n",
      "Epoch 19/150\n",
      " - 0s - loss: 0.1700 - accuracy: 0.9288\n",
      "Epoch 20/150\n",
      " - 0s - loss: 0.1716 - accuracy: 0.9258\n",
      "Epoch 21/150\n",
      " - 0s - loss: 0.1710 - accuracy: 0.9318\n",
      "Epoch 22/150\n",
      " - 0s - loss: 0.1705 - accuracy: 0.9318\n",
      "Epoch 23/150\n",
      " - 0s - loss: 0.1719 - accuracy: 0.9258\n",
      "Epoch 24/150\n",
      " - 0s - loss: 0.1700 - accuracy: 0.9377\n",
      "Epoch 25/150\n",
      " - 0s - loss: 0.1696 - accuracy: 0.9318\n",
      "Epoch 26/150\n",
      " - 0s - loss: 0.1688 - accuracy: 0.9288\n",
      "Epoch 27/150\n",
      " - 0s - loss: 0.1685 - accuracy: 0.9258\n",
      "Epoch 28/150\n",
      " - 0s - loss: 0.1719 - accuracy: 0.9347\n",
      "Epoch 29/150\n",
      " - 0s - loss: 0.1692 - accuracy: 0.9288\n",
      "Epoch 30/150\n",
      " - 0s - loss: 0.1667 - accuracy: 0.9288\n",
      "Epoch 31/150\n",
      " - 0s - loss: 0.1672 - accuracy: 0.9407\n",
      "Epoch 32/150\n",
      " - 0s - loss: 0.1691 - accuracy: 0.9407\n",
      "Epoch 33/150\n",
      " - 0s - loss: 0.1667 - accuracy: 0.9347\n",
      "Epoch 34/150\n",
      " - 0s - loss: 0.1673 - accuracy: 0.9318\n",
      "Epoch 35/150\n",
      " - 0s - loss: 0.1654 - accuracy: 0.9347\n",
      "Epoch 36/150\n",
      " - 0s - loss: 0.1659 - accuracy: 0.9318\n",
      "Epoch 37/150\n",
      " - 0s - loss: 0.1656 - accuracy: 0.9347\n",
      "Epoch 38/150\n",
      " - 0s - loss: 0.1649 - accuracy: 0.9347\n",
      "Epoch 39/150\n",
      " - 0s - loss: 0.1649 - accuracy: 0.9436\n",
      "Epoch 40/150\n",
      " - 0s - loss: 0.1647 - accuracy: 0.9318\n",
      "Epoch 41/150\n",
      " - 0s - loss: 0.1643 - accuracy: 0.9318\n",
      "Epoch 42/150\n",
      " - 0s - loss: 0.1632 - accuracy: 0.9377\n",
      "Epoch 43/150\n",
      " - 0s - loss: 0.1628 - accuracy: 0.9318\n",
      "Epoch 44/150\n",
      " - 0s - loss: 0.1630 - accuracy: 0.9377\n",
      "Epoch 45/150\n",
      " - 0s - loss: 0.1637 - accuracy: 0.9318\n",
      "Epoch 46/150\n",
      " - 0s - loss: 0.1629 - accuracy: 0.9377\n",
      "Epoch 47/150\n",
      " - 0s - loss: 0.1626 - accuracy: 0.9407\n",
      "Epoch 48/150\n",
      " - 0s - loss: 0.1654 - accuracy: 0.9318\n",
      "Epoch 49/150\n",
      " - 0s - loss: 0.1622 - accuracy: 0.9377\n",
      "Epoch 50/150\n",
      " - 0s - loss: 0.1617 - accuracy: 0.9347\n",
      "Epoch 51/150\n",
      " - 0s - loss: 0.1617 - accuracy: 0.9377\n",
      "Epoch 52/150\n",
      " - 0s - loss: 0.1610 - accuracy: 0.9347\n",
      "Epoch 53/150\n",
      " - 0s - loss: 0.1629 - accuracy: 0.9377\n",
      "Epoch 54/150\n",
      " - 0s - loss: 0.1595 - accuracy: 0.9407\n",
      "Epoch 55/150\n",
      " - 0s - loss: 0.1603 - accuracy: 0.9407\n",
      "Epoch 56/150\n",
      " - 0s - loss: 0.1603 - accuracy: 0.9407\n",
      "Epoch 57/150\n",
      " - 0s - loss: 0.1633 - accuracy: 0.9347\n",
      "Epoch 58/150\n",
      " - 0s - loss: 0.1579 - accuracy: 0.9377\n",
      "Epoch 59/150\n",
      " - 0s - loss: 0.1651 - accuracy: 0.9407\n",
      "Epoch 60/150\n",
      " - 0s - loss: 0.1573 - accuracy: 0.9407\n",
      "Epoch 61/150\n",
      " - 0s - loss: 0.1602 - accuracy: 0.9347\n",
      "Epoch 62/150\n",
      " - 0s - loss: 0.1590 - accuracy: 0.9407\n",
      "Epoch 63/150\n",
      " - 0s - loss: 0.1597 - accuracy: 0.9407\n",
      "Epoch 64/150\n",
      " - 0s - loss: 0.1583 - accuracy: 0.9407\n",
      "Epoch 65/150\n",
      " - 0s - loss: 0.1590 - accuracy: 0.9407\n",
      "Epoch 66/150\n",
      " - 0s - loss: 0.1573 - accuracy: 0.9436\n",
      "Epoch 67/150\n",
      " - 0s - loss: 0.1570 - accuracy: 0.9436\n",
      "Epoch 68/150\n",
      " - 0s - loss: 0.1602 - accuracy: 0.9347\n",
      "Epoch 69/150\n",
      " - 0s - loss: 0.1585 - accuracy: 0.9407\n",
      "Epoch 70/150\n",
      " - 0s - loss: 0.1566 - accuracy: 0.9407\n",
      "Epoch 71/150\n",
      " - 0s - loss: 0.1587 - accuracy: 0.9318\n",
      "Epoch 72/150\n",
      " - 0s - loss: 0.1586 - accuracy: 0.9347\n",
      "Epoch 73/150\n",
      " - 0s - loss: 0.1554 - accuracy: 0.9436\n",
      "Epoch 74/150\n",
      " - 0s - loss: 0.1562 - accuracy: 0.9407\n",
      "Epoch 75/150\n",
      " - 0s - loss: 0.1569 - accuracy: 0.9436\n",
      "Epoch 76/150\n",
      " - 0s - loss: 0.1565 - accuracy: 0.9377\n",
      "Epoch 77/150\n",
      " - 0s - loss: 0.1541 - accuracy: 0.9436\n",
      "Epoch 78/150\n",
      " - 0s - loss: 0.1549 - accuracy: 0.9436\n",
      "Epoch 79/150\n",
      " - 0s - loss: 0.1540 - accuracy: 0.9436\n",
      "Epoch 80/150\n",
      " - 0s - loss: 0.1555 - accuracy: 0.9377\n",
      "Epoch 81/150\n",
      " - 0s - loss: 0.1546 - accuracy: 0.9407\n",
      "Epoch 82/150\n",
      " - 0s - loss: 0.1542 - accuracy: 0.9436\n",
      "Epoch 83/150\n",
      " - 0s - loss: 0.1553 - accuracy: 0.9407\n",
      "Epoch 84/150\n",
      " - 0s - loss: 0.1521 - accuracy: 0.9466\n",
      "Epoch 85/150\n",
      " - 0s - loss: 0.1551 - accuracy: 0.9407\n",
      "Epoch 86/150\n",
      " - 0s - loss: 0.1557 - accuracy: 0.9436\n",
      "Epoch 87/150\n",
      " - 0s - loss: 0.1526 - accuracy: 0.9436\n",
      "Epoch 88/150\n",
      " - 0s - loss: 0.1531 - accuracy: 0.9407\n",
      "Epoch 89/150\n",
      " - 0s - loss: 0.1538 - accuracy: 0.9436\n",
      "Epoch 90/150\n",
      " - 0s - loss: 0.1542 - accuracy: 0.9436\n",
      "Epoch 91/150\n",
      " - 0s - loss: 0.1525 - accuracy: 0.9436\n",
      "Epoch 92/150\n",
      " - 0s - loss: 0.1519 - accuracy: 0.9436\n",
      "Epoch 93/150\n",
      " - 0s - loss: 0.1517 - accuracy: 0.9466\n",
      "Epoch 94/150\n",
      " - 0s - loss: 0.1531 - accuracy: 0.9466\n",
      "Epoch 95/150\n",
      " - 0s - loss: 0.1566 - accuracy: 0.9347\n",
      "Epoch 96/150\n",
      " - 0s - loss: 0.1541 - accuracy: 0.9466\n",
      "Epoch 97/150\n",
      " - 0s - loss: 0.1512 - accuracy: 0.9466\n",
      "Epoch 98/150\n",
      " - 0s - loss: 0.1519 - accuracy: 0.9496\n",
      "Epoch 99/150\n",
      " - 0s - loss: 0.1510 - accuracy: 0.9436\n",
      "Epoch 100/150\n",
      " - 0s - loss: 0.1503 - accuracy: 0.9466\n",
      "Epoch 101/150\n",
      " - 0s - loss: 0.1509 - accuracy: 0.9466\n",
      "Epoch 102/150\n",
      " - 0s - loss: 0.1511 - accuracy: 0.9466\n",
      "Epoch 103/150\n",
      " - 0s - loss: 0.1496 - accuracy: 0.9525\n",
      "Epoch 104/150\n",
      " - 0s - loss: 0.1521 - accuracy: 0.9407\n",
      "Epoch 105/150\n",
      " - 0s - loss: 0.1505 - accuracy: 0.9466\n",
      "Epoch 106/150\n",
      " - 0s - loss: 0.1492 - accuracy: 0.9555\n",
      "Epoch 107/150\n",
      " - 0s - loss: 0.1489 - accuracy: 0.9496\n",
      "Epoch 108/150\n",
      " - 0s - loss: 0.1488 - accuracy: 0.9496\n",
      "Epoch 109/150\n",
      " - 0s - loss: 0.1504 - accuracy: 0.9466\n",
      "Epoch 110/150\n",
      " - 0s - loss: 0.1486 - accuracy: 0.9466\n",
      "Epoch 111/150\n",
      " - 0s - loss: 0.1485 - accuracy: 0.9466\n",
      "Epoch 112/150\n",
      " - 0s - loss: 0.1487 - accuracy: 0.9466\n",
      "Epoch 113/150\n",
      " - 0s - loss: 0.1484 - accuracy: 0.9525\n",
      "Epoch 114/150\n",
      " - 0s - loss: 0.1483 - accuracy: 0.9407\n",
      "Epoch 115/150\n",
      " - 0s - loss: 0.1490 - accuracy: 0.9496\n",
      "Epoch 116/150\n",
      " - 0s - loss: 0.1479 - accuracy: 0.9466\n",
      "Epoch 117/150\n",
      " - 0s - loss: 0.1464 - accuracy: 0.9496\n",
      "Epoch 118/150\n",
      " - 0s - loss: 0.1477 - accuracy: 0.9466\n",
      "Epoch 119/150\n",
      " - 0s - loss: 0.1476 - accuracy: 0.9496\n",
      "Epoch 120/150\n",
      " - 0s - loss: 0.1487 - accuracy: 0.9466\n",
      "Epoch 121/150\n",
      " - 0s - loss: 0.1477 - accuracy: 0.9466\n",
      "Epoch 122/150\n",
      " - 0s - loss: 0.1483 - accuracy: 0.9466\n",
      "Epoch 123/150\n",
      " - 0s - loss: 0.1479 - accuracy: 0.9466\n",
      "Epoch 124/150\n",
      " - 0s - loss: 0.1478 - accuracy: 0.9525\n",
      "Epoch 125/150\n",
      " - 0s - loss: 0.1494 - accuracy: 0.9466\n",
      "Epoch 126/150\n",
      " - 0s - loss: 0.1493 - accuracy: 0.9436\n",
      "Epoch 127/150\n",
      " - 0s - loss: 0.1451 - accuracy: 0.9555\n",
      "Epoch 128/150\n",
      " - 0s - loss: 0.1454 - accuracy: 0.9466\n",
      "Epoch 129/150\n",
      " - 0s - loss: 0.1469 - accuracy: 0.9525\n",
      "Epoch 130/150\n",
      " - 0s - loss: 0.1479 - accuracy: 0.9525\n",
      "Epoch 131/150\n",
      " - 0s - loss: 0.1462 - accuracy: 0.9466\n",
      "Epoch 132/150\n",
      " - 0s - loss: 0.1454 - accuracy: 0.9555\n",
      "Epoch 133/150\n",
      " - 0s - loss: 0.1448 - accuracy: 0.9525\n",
      "Epoch 134/150\n",
      " - 0s - loss: 0.1450 - accuracy: 0.9496\n",
      "Epoch 135/150\n",
      " - 0s - loss: 0.1445 - accuracy: 0.9496\n",
      "Epoch 136/150\n",
      " - 0s - loss: 0.1440 - accuracy: 0.9555\n",
      "Epoch 137/150\n",
      " - 0s - loss: 0.1434 - accuracy: 0.9496\n",
      "Epoch 138/150\n",
      " - 0s - loss: 0.1452 - accuracy: 0.9525\n",
      "Epoch 139/150\n",
      " - 0s - loss: 0.1440 - accuracy: 0.9496\n",
      "Epoch 140/150\n",
      " - 0s - loss: 0.1508 - accuracy: 0.9525\n",
      "Epoch 141/150\n",
      " - 0s - loss: 0.1442 - accuracy: 0.9496\n",
      "Epoch 142/150\n",
      " - 0s - loss: 0.1444 - accuracy: 0.9466\n",
      "Epoch 143/150\n",
      " - 0s - loss: 0.1454 - accuracy: 0.9525\n",
      "Epoch 144/150\n",
      " - 0s - loss: 0.1445 - accuracy: 0.9555\n",
      "Epoch 145/150\n",
      " - 0s - loss: 0.1447 - accuracy: 0.9496\n",
      "Epoch 146/150\n",
      " - 0s - loss: 0.1442 - accuracy: 0.9555\n",
      "Epoch 147/150\n",
      " - 0s - loss: 0.1477 - accuracy: 0.9407\n",
      "Epoch 148/150\n",
      " - 0s - loss: 0.1447 - accuracy: 0.9555\n",
      "Epoch 149/150\n",
      " - 0s - loss: 0.1467 - accuracy: 0.9377\n",
      "Epoch 150/150\n",
      " - 0s - loss: 0.1437 - accuracy: 0.9585\n"
     ]
    },
    {
     "data": {
      "text/plain": [
       "<keras.callbacks.callbacks.History at 0x7f090412e358>"
      ]
     },
     "execution_count": 117,
     "metadata": {},
     "output_type": "execute_result"
    }
   ],
   "source": [
    "model.fit(scaled_X_train, y_train, epochs=150, verbose=2, callbacks=[tensorboard_callback])"
   ]
  },
  {
   "cell_type": "code",
   "execution_count": 116,
   "metadata": {},
   "outputs": [
    {
     "data": {
      "text/plain": [
       "Reusing TensorBoard on port 6006 (pid 53563), started 0:18:01 ago. (Use '!kill 53563' to kill it.)"
      ]
     },
     "metadata": {},
     "output_type": "display_data"
    },
    {
     "data": {
      "text/html": [
       "\n",
       "        <iframe\n",
       "            width=\"100%\"\n",
       "            height=\"800\"\n",
       "            src=\"http://localhost:6006\"\n",
       "            frameborder=\"0\"\n",
       "            allowfullscreen\n",
       "        ></iframe>\n",
       "        "
      ],
      "text/plain": [
       "<IPython.lib.display.IFrame at 0x7f0904119ef0>"
      ]
     },
     "metadata": {},
     "output_type": "display_data"
    }
   ],
   "source": [
    "%tensorboard --logdir logs/fit"
   ]
  },
  {
   "cell_type": "code",
   "execution_count": 80,
   "metadata": {},
   "outputs": [
    {
     "data": {
      "text/plain": [
       "array([0, 1, 1, 1, 0, 0, 0, 0, 1, 0, 1, 0, 1, 0, 1, 1, 1, 1, 1, 1, 0, 0,\n",
       "       0, 1, 0, 0, 1, 1, 1, 1, 0, 1, 0, 0, 0, 0, 1, 1, 1, 0, 1, 0, 1, 1,\n",
       "       1, 1, 1, 1, 0, 0, 0, 0, 1, 0, 0, 0, 0, 1, 0, 0, 0, 1, 0, 0, 1, 1,\n",
       "       0, 1, 1, 0, 0, 0, 1, 1, 0, 0, 1, 1, 0, 0, 1, 0, 0, 1, 1, 0, 1, 0,\n",
       "       0, 1, 1, 1, 0, 0, 0, 0, 0, 0, 1, 1, 1, 0, 1, 1, 0, 1, 0, 0, 0, 0,\n",
       "       1, 0, 0, 0, 0, 0, 0, 1, 0, 1, 0, 0, 0, 0, 0, 1, 1, 0, 1, 0, 1, 0,\n",
       "       0, 0, 0, 1, 1, 1, 0, 0, 0, 0, 1, 1, 1, 1, 1, 1, 1, 0, 0, 0, 1, 0,\n",
       "       0, 0, 0, 0, 1, 1, 0, 0, 1, 1, 0, 0, 0])"
      ]
     },
     "execution_count": 80,
     "metadata": {},
     "output_type": "execute_result"
    }
   ],
   "source": [
    "# Spits out probabilities by default.\n",
    "model.predict_classes(scaled_X_test)"
   ]
  },
  {
   "cell_type": "code",
   "execution_count": 81,
   "metadata": {},
   "outputs": [
    {
     "name": "stdout",
     "output_type": "stream",
     "text": [
      "167/167 [==============================] - 0s 114us/step\n"
     ]
    },
    {
     "data": {
      "text/plain": [
       "[0.17792843047997908, 0.940119743347168]"
      ]
     },
     "execution_count": 81,
     "metadata": {},
     "output_type": "execute_result"
    }
   ],
   "source": [
    "model.evaluate(x=scaled_X_test, y=y_test)"
   ]
  },
  {
   "cell_type": "code",
   "execution_count": 82,
   "metadata": {},
   "outputs": [],
   "source": [
    "from sklearn.metrics import confusion_matrix, classification_report, accuracy_score"
   ]
  },
  {
   "cell_type": "code",
   "execution_count": 83,
   "metadata": {},
   "outputs": [],
   "source": [
    "predictions = model.predict_classes(scaled_X_test)"
   ]
  },
  {
   "cell_type": "code",
   "execution_count": 84,
   "metadata": {},
   "outputs": [
    {
     "data": {
      "text/plain": [
       "array([0, 1, 1, 1, 0, 0, 0, 0, 1, 0, 1, 0, 1, 0, 1, 1, 1, 1, 1, 1, 0, 0,\n",
       "       0, 1, 0, 0, 1, 1, 1, 1, 0, 1, 0, 0, 0, 0, 1, 1, 1, 0, 1, 0, 1, 1,\n",
       "       1, 1, 1, 1, 0, 0, 0, 0, 1, 0, 0, 0, 0, 1, 0, 0, 0, 1, 0, 0, 1, 1,\n",
       "       0, 1, 1, 0, 0, 0, 1, 1, 0, 0, 1, 1, 0, 0, 1, 0, 0, 1, 1, 0, 1, 0,\n",
       "       0, 1, 1, 1, 0, 0, 0, 0, 0, 0, 1, 1, 1, 0, 1, 1, 0, 1, 0, 0, 0, 0,\n",
       "       1, 0, 0, 0, 0, 0, 0, 1, 0, 1, 0, 0, 0, 0, 0, 1, 1, 0, 1, 0, 1, 0,\n",
       "       0, 0, 0, 1, 1, 1, 0, 0, 0, 0, 1, 1, 1, 1, 1, 1, 1, 0, 0, 0, 1, 0,\n",
       "       0, 0, 0, 0, 1, 1, 0, 0, 1, 1, 0, 0, 0])"
      ]
     },
     "execution_count": 84,
     "metadata": {},
     "output_type": "execute_result"
    }
   ],
   "source": [
    "predictions"
   ]
  },
  {
   "cell_type": "code",
   "execution_count": 85,
   "metadata": {},
   "outputs": [
    {
     "data": {
      "text/plain": [
       "array([0, 1, 1, 0, 0, 0, 0, 0, 1, 0, 1, 0, 0, 0, 1, 1, 1, 1, 1, 1, 0, 0,\n",
       "       0, 1, 0, 0, 1, 1, 0, 1, 0, 1, 0, 0, 0, 1, 1, 1, 1, 0, 1, 0, 1, 1,\n",
       "       1, 1, 0, 1, 0, 0, 0, 0, 1, 0, 0, 0, 0, 1, 0, 0, 0, 1, 0, 0, 1, 1,\n",
       "       0, 1, 1, 0, 0, 0, 1, 1, 0, 0, 1, 1, 0, 0, 1, 0, 0, 1, 0, 0, 1, 0,\n",
       "       0, 1, 1, 1, 0, 0, 0, 0, 0, 0, 1, 0, 1, 0, 1, 1, 0, 1, 0, 0, 0, 0,\n",
       "       0, 0, 0, 0, 0, 0, 0, 1, 0, 1, 0, 0, 0, 0, 0, 0, 1, 0, 1, 0, 1, 0,\n",
       "       0, 0, 0, 1, 1, 1, 0, 0, 0, 0, 1, 1, 1, 1, 0, 1, 1, 0, 0, 0, 1, 0,\n",
       "       0, 0, 0, 0, 1, 1, 0, 0, 1, 1, 0, 0, 0])"
      ]
     },
     "execution_count": 85,
     "metadata": {},
     "output_type": "execute_result"
    }
   ],
   "source": [
    "# If you use only predictions it will return scaled values between 0 and 1 due to MinMaxScaler... possible\n",
    "# workaround below\n",
    "y_test.argmax(axis=1)"
   ]
  },
  {
   "cell_type": "code",
   "execution_count": 86,
   "metadata": {},
   "outputs": [
    {
     "name": "stdout",
     "output_type": "stream",
     "text": [
      "[[92  9]\n",
      " [ 1 65]]\n"
     ]
    }
   ],
   "source": [
    "print(confusion_matrix(y_test.argmax(axis=1), predictions))"
   ]
  },
  {
   "cell_type": "code",
   "execution_count": 87,
   "metadata": {},
   "outputs": [
    {
     "name": "stdout",
     "output_type": "stream",
     "text": [
      "              precision    recall  f1-score   support\n",
      "\n",
      "           0       0.99      0.91      0.95       101\n",
      "           1       0.88      0.98      0.93        66\n",
      "\n",
      "   micro avg       0.94      0.94      0.94       167\n",
      "   macro avg       0.93      0.95      0.94       167\n",
      "weighted avg       0.95      0.94      0.94       167\n",
      "\n"
     ]
    }
   ],
   "source": [
    "print(classification_report(y_test.argmax(axis=1), predictions))"
   ]
  },
  {
   "cell_type": "code",
   "execution_count": 88,
   "metadata": {},
   "outputs": [
    {
     "name": "stdout",
     "output_type": "stream",
     "text": [
      "Model accuracy:  0.9401197604790419 %\n"
     ]
    }
   ],
   "source": [
    "print(\"Model accuracy: \", accuracy_score(y_test.argmax(axis=1), predictions), \"%\")"
   ]
  },
  {
   "cell_type": "code",
   "execution_count": 26,
   "metadata": {},
   "outputs": [],
   "source": [
    "# Save the Neural Network model architecture\n",
    "now = datetime.now()\n",
    "current_time = now.strftime(\"%d%m%Y_%H%M%S\")\n",
    "\n",
    "# Create logic to create folder structure if it doesn't exist!\n",
    "model.save(f\"train_{current_time}_model.h5\")"
   ]
  },
  {
   "cell_type": "code",
   "execution_count": 28,
   "metadata": {},
   "outputs": [],
   "source": [
    "# TODO (URGENTE!!)\n",
    "# Verificar os scripts de pre-processamento e ajustar a seleção de features para não remover\n",
    "# a coluna evadido... (Apenas forward apresentou o problema)"
   ]
  },
  {
   "cell_type": "code",
   "execution_count": 31,
   "metadata": {},
   "outputs": [
    {
     "name": "stdout",
     "output_type": "stream",
     "text": [
      "Predicted=[9.9987769e-01 1.2227971e-04]\n",
      "Predicted=[4.501619e-10 1.000000e+00]\n",
      "Predicted=[5.5623588e-08 1.0000000e+00]\n",
      "Predicted=[3.202797e-11 1.000000e+00]\n",
      "Predicted=[9.9999499e-01 4.9989585e-06]\n",
      "Predicted=[9.9999881e-01 1.2237747e-06]\n",
      "Predicted=[9.9999619e-01 3.8236535e-06]\n",
      "Predicted=[9.9999559e-01 4.4407107e-06]\n",
      "Predicted=[2.4998812e-25 1.0000000e+00]\n",
      "Predicted=[9.9999893e-01 1.0305984e-06]\n",
      "Predicted=[7.735660e-08 9.999999e-01]\n",
      "Predicted=[9.9954516e-01 4.5478254e-04]\n",
      "Predicted=[3.455241e-09 1.000000e+00]\n",
      "Predicted=[0.99796546 0.00203456]\n",
      "Predicted=[1.167531e-09 1.000000e+00]\n",
      "Predicted=[0.00369074 0.9963092 ]\n",
      "Predicted=[0.00147551 0.9985245 ]\n",
      "Predicted=[8.757894e-09 1.000000e+00]\n",
      "Predicted=[0.2558279  0.74417204]\n",
      "Predicted=[1.0005087e-09 1.0000000e+00]\n",
      "Predicted=[9.9997580e-01 2.4162608e-05]\n",
      "Predicted=[9.9999762e-01 2.4419892e-06]\n",
      "Predicted=[9.9973768e-01 2.6233436e-04]\n",
      "Predicted=[1.1642808e-07 9.9999988e-01]\n",
      "Predicted=[9.9999154e-01 8.4859057e-06]\n",
      "Predicted=[0.98405564 0.01594438]\n",
      "Predicted=[2.2456381e-09 1.0000000e+00]\n",
      "Predicted=[9.2528796e-07 9.9999905e-01]\n",
      "Predicted=[8.1830674e-13 1.0000000e+00]\n",
      "Predicted=[0.78074366 0.21925633]\n",
      "Predicted=[0.8613477  0.13865234]\n",
      "Predicted=[4.012944e-10 1.000000e+00]\n",
      "Predicted=[9.9976093e-01 2.3901819e-04]\n",
      "Predicted=[9.9984062e-01 1.5938598e-04]\n",
      "Predicted=[9.9985492e-01 1.4507276e-04]\n",
      "Predicted=[0.00659591 0.9934041 ]\n",
      "Predicted=[1.5398326e-25 1.0000000e+00]\n",
      "Predicted=[1.766203e-04 9.998234e-01]\n",
      "Predicted=[2.1073254e-13 1.0000000e+00]\n",
      "Predicted=[0.9558427  0.04415734]\n",
      "Predicted=[1.0518194e-12 1.0000000e+00]\n",
      "Predicted=[9.9959844e-01 4.0155166e-04]\n",
      "Predicted=[1.4324689e-04 9.9985671e-01]\n",
      "Predicted=[0.99247676 0.00752321]\n",
      "Predicted=[5.810231e-07 9.999994e-01]\n",
      "Predicted=[4.6455394e-08 1.0000000e+00]\n",
      "Predicted=[0.37791988 0.6220801 ]\n",
      "Predicted=[0.28925785 0.7107421 ]\n",
      "Predicted=[0.99448085 0.00551921]\n",
      "Predicted=[0.9989955  0.00100452]\n",
      "Predicted=[0.99780184 0.00219817]\n",
      "Predicted=[9.9959451e-01 4.0550422e-04]\n",
      "Predicted=[5.155765e-08 1.000000e+00]\n",
      "Predicted=[9.9998319e-01 1.6776752e-05]\n",
      "Predicted=[9.9987483e-01 1.2515084e-04]\n",
      "Predicted=[0.9506094  0.04939058]\n",
      "Predicted=[0.9972421  0.00275785]\n",
      "Predicted=[2.1496276e-06 9.9999785e-01]\n",
      "Predicted=[9.999869e-01 1.312647e-05]\n",
      "Predicted=[9.999969e-01 3.055199e-06]\n",
      "Predicted=[9.9997556e-01 2.4399627e-05]\n",
      "Predicted=[0.6883266  0.31167337]\n",
      "Predicted=[9.9999785e-01 2.1250478e-06]\n",
      "Predicted=[9.990478e-01 9.521368e-04]\n",
      "Predicted=[2.6304015e-11 1.0000000e+00]\n",
      "Predicted=[3.091058e-11 1.000000e+00]\n",
      "Predicted=[9.9981982e-01 1.8021985e-04]\n",
      "Predicted=[7.7863934e-04 9.9922132e-01]\n",
      "Predicted=[2.1964467e-04 9.9978036e-01]\n",
      "Predicted=[0.979731   0.02026892]\n",
      "Predicted=[9.9989784e-01 1.0216328e-04]\n",
      "Predicted=[9.990677e-01 9.323287e-04]\n",
      "Predicted=[3.006568e-08 1.000000e+00]\n",
      "Predicted=[6.5164096e-10 1.0000000e+00]\n",
      "Predicted=[9.9994135e-01 5.8649344e-05]\n",
      "Predicted=[0.9986267  0.00137326]\n",
      "Predicted=[2.2734714e-08 1.0000000e+00]\n",
      "Predicted=[1.1148814e-05 9.9998879e-01]\n",
      "Predicted=[9.9998367e-01 1.6308039e-05]\n",
      "Predicted=[9.9997461e-01 2.5437279e-05]\n",
      "Predicted=[9.0144976e-04 9.9909854e-01]\n",
      "Predicted=[9.9999452e-01 5.4469197e-06]\n",
      "Predicted=[9.9997604e-01 2.4013387e-05]\n",
      "Predicted=[7.791958e-09 1.000000e+00]\n",
      "Predicted=[0.97508585 0.02491418]\n",
      "Predicted=[9.999397e-01 6.032636e-05]\n",
      "Predicted=[0.34977114 0.65022886]\n",
      "Predicted=[9.9997795e-01 2.2074033e-05]\n",
      "Predicted=[0.9898011  0.01019891]\n",
      "Predicted=[3.0894892e-08 1.0000000e+00]\n",
      "Predicted=[1.0013327e-14 1.0000000e+00]\n",
      "Predicted=[3.296599e-09 1.000000e+00]\n",
      "Predicted=[9.999957e-01 4.274759e-06]\n",
      "Predicted=[0.89509344 0.1049066 ]\n",
      "Predicted=[0.97221744 0.02778258]\n",
      "Predicted=[0.9989574  0.00104264]\n",
      "Predicted=[0.9987618  0.00123823]\n",
      "Predicted=[9.9999774e-01 2.2720378e-06]\n",
      "Predicted=[7.628484e-11 1.000000e+00]\n",
      "Predicted=[0.00811303 0.9918869 ]\n",
      "Predicted=[2.222281e-08 1.000000e+00]\n",
      "Predicted=[0.8776426  0.12235736]\n",
      "Predicted=[1.3602621e-09 1.0000000e+00]\n",
      "Predicted=[1.0625266e-08 1.0000000e+00]\n",
      "Predicted=[3.1419765e-04 9.9968576e-01]\n",
      "Predicted=[6.201957e-08 9.999999e-01]\n",
      "Predicted=[9.9997008e-01 2.9953957e-05]\n",
      "Predicted=[9.9999619e-01 3.8708513e-06]\n",
      "Predicted=[0.7208221  0.27917793]\n",
      "Predicted=[5.4478972e-09 1.0000000e+00]\n",
      "Predicted=[7.953972e-11 1.000000e+00]\n",
      "Predicted=[0.9914773  0.00852273]\n",
      "Predicted=[9.9998641e-01 1.3638029e-05]\n",
      "Predicted=[9.999958e-01 4.141350e-06]\n",
      "Predicted=[9.9943846e-01 5.6151941e-04]\n",
      "Predicted=[0.9744204  0.02557953]\n",
      "Predicted=[0.8985385  0.10146146]\n",
      "Predicted=[2.3538057e-11 1.0000000e+00]\n",
      "Predicted=[9.999273e-01 7.270720e-05]\n",
      "Predicted=[5.8302626e-14 1.0000000e+00]\n",
      "Predicted=[0.85866636 0.14133367]\n",
      "Predicted=[0.9940825  0.00591746]\n",
      "Predicted=[9.999962e-01 3.840904e-06]\n",
      "Predicted=[9.9923503e-01 7.6497882e-04]\n",
      "Predicted=[9.9983144e-01 1.6849072e-04]\n",
      "Predicted=[0.00428361 0.9957164 ]\n",
      "Predicted=[1.2468119e-05 9.9998748e-01]\n",
      "Predicted=[0.9693913  0.03060877]\n",
      "Predicted=[0.00385636 0.9961436 ]\n",
      "Predicted=[9.9904615e-01 9.5386890e-04]\n",
      "Predicted=[2.4074858e-13 1.0000000e+00]\n",
      "Predicted=[0.9951675  0.00483257]\n",
      "Predicted=[0.48728597 0.512714  ]\n",
      "Predicted=[0.9987979  0.00120206]\n",
      "Predicted=[9.9997616e-01 2.3801125e-05]\n",
      "Predicted=[9.9923076e-05 9.9990010e-01]\n",
      "Predicted=[1.7106935e-09 1.0000000e+00]\n",
      "Predicted=[4.6373592e-05 9.9995363e-01]\n",
      "Predicted=[9.9992657e-01 7.3453994e-05]\n",
      "Predicted=[0.5261419  0.47385818]\n",
      "Predicted=[9.9980789e-01 1.9212397e-04]\n",
      "Predicted=[9.999943e-01 5.737767e-06]\n",
      "Predicted=[9.5023444e-07 9.9999905e-01]\n",
      "Predicted=[1.745587e-07 9.999999e-01]\n",
      "Predicted=[2.2714602e-08 1.0000000e+00]\n",
      "Predicted=[2.127192e-11 1.000000e+00]\n",
      "Predicted=[0.02118976 0.9788102 ]\n",
      "Predicted=[5.7939004e-22 1.0000000e+00]\n",
      "Predicted=[2.3087771e-06 9.9999774e-01]\n",
      "Predicted=[0.866704   0.13329598]\n",
      "Predicted=[0.998889   0.00111095]\n",
      "Predicted=[0.9762901  0.02370987]\n",
      "Predicted=[8.0147453e-07 9.9999917e-01]\n",
      "Predicted=[9.9967360e-01 3.2643485e-04]\n",
      "Predicted=[8.162098e-10 1.000000e+00]\n",
      "Predicted=[0.6832798  0.31672016]\n",
      "Predicted=[9.9917597e-01 8.2404190e-04]\n",
      "Predicted=[0.96214384 0.03785613]\n",
      "Predicted=[0.97208154 0.02791845]\n",
      "Predicted=[2.7419699e-07 9.9999976e-01]\n",
      "Predicted=[0.97326905 0.02673092]\n",
      "Predicted=[0.9986362  0.00136379]\n",
      "Predicted=[1.3753384e-05 9.9998629e-01]\n",
      "Predicted=[9.9956423e-01 4.3572564e-04]\n",
      "Predicted=[9.9988925e-01 1.1067975e-04]\n",
      "Predicted=[9.9999821e-01 1.7999724e-06]\n",
      "Predicted=[9.9978262e-01 2.1733709e-04]\n"
     ]
    },
    {
     "ename": "IndexError",
     "evalue": "index 167 is out of bounds for axis 0 with size 167",
     "output_type": "error",
     "traceback": [
      "\u001b[1;31m---------------------------------------------------------------------------\u001b[0m",
      "\u001b[1;31mIndexError\u001b[0m                                Traceback (most recent call last)",
      "\u001b[1;32m<ipython-input-31-3d00feb2069b>\u001b[0m in \u001b[0;36m<module>\u001b[1;34m\u001b[0m\n\u001b[0;32m      7\u001b[0m \u001b[1;33m\u001b[0m\u001b[0m\n\u001b[0;32m      8\u001b[0m \u001b[1;32mfor\u001b[0m \u001b[0mi\u001b[0m \u001b[1;32min\u001b[0m \u001b[0mrange\u001b[0m\u001b[1;33m(\u001b[0m\u001b[1;36m0\u001b[0m\u001b[1;33m,\u001b[0m \u001b[1;36m200\u001b[0m\u001b[1;33m)\u001b[0m\u001b[1;33m:\u001b[0m\u001b[1;33m\u001b[0m\u001b[1;33m\u001b[0m\u001b[0m\n\u001b[1;32m----> 9\u001b[1;33m     \u001b[0mprint\u001b[0m\u001b[1;33m(\u001b[0m\u001b[1;34m\"Predicted=%s\"\u001b[0m \u001b[1;33m%\u001b[0m \u001b[1;33m(\u001b[0m\u001b[0mynew\u001b[0m\u001b[1;33m[\u001b[0m\u001b[0mi\u001b[0m\u001b[1;33m]\u001b[0m\u001b[1;33m)\u001b[0m\u001b[1;33m)\u001b[0m\u001b[1;33m\u001b[0m\u001b[1;33m\u001b[0m\u001b[0m\n\u001b[0m",
      "\u001b[1;31mIndexError\u001b[0m: index 167 is out of bounds for axis 0 with size 167"
     ]
    }
   ],
   "source": []
  },
  {
   "cell_type": "code",
   "execution_count": null,
   "metadata": {},
   "outputs": [],
   "source": []
  }
 ],
 "metadata": {
  "kernelspec": {
   "display_name": "Python 3",
   "language": "python",
   "name": "python3"
  },
  "language_info": {
   "codemirror_mode": {
    "name": "ipython",
    "version": 3
   },
   "file_extension": ".py",
   "mimetype": "text/x-python",
   "name": "python",
   "nbconvert_exporter": "python",
   "pygments_lexer": "ipython3",
   "version": "3.9.1"
  }
 },
 "nbformat": 4,
 "nbformat_minor": 4
}
