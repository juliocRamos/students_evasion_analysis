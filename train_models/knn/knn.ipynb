{
 "cells": [
  {
   "cell_type": "code",
   "execution_count": null,
   "metadata": {},
   "outputs": [],
   "source": [
    "# imports\n",
    "from sklearn.metrics import confusion_matrix, classification_report, accuracy_score, \\\n",
    "                            roc_auc_score, precision_score, f1_score, recall_score, \\\n",
    "                            mean_squared_error, mean_absolute_error, max_error\n",
    "from sklearn.model_selection import StratifiedKFold\n",
    "from sklearn.neighbors import KNeighborsClassifier\n",
    "from sklearn.model_selection import GridSearchCV\n",
    "from sklearn.preprocessing import StandardScaler\n",
    "import pandas as pd\n",
    "import numpy as np\n",
    "import sys"
   ]
  },
  {
   "cell_type": "code",
   "execution_count": null,
   "metadata": {},
   "outputs": [],
   "source": [
    "# change flag to run local or in colab\n",
    "colab_env = False\n",
    "\n",
    "results_dir = \"\"\n",
    "model = \"knn\"\n",
    "if colab_env:\n",
    "    # default to run in colab\n",
    "    from google.colab import drive\n",
    "    drive.mount('/content/drive')\n",
    "\n",
    "    sys.path.insert(1, \"/content/drive/Shareddrives/tcc_pos/utils\")\n",
    "    import model_utils\n",
    "\n",
    "    results_dir = \"/content/drive/Shareddrives/tcc_pos/results/\"\n",
    "    dataframe_path = \"/content/drive/Shareddrives/tcc_pos/datasets/no_filtered_analysis.csv\"   \n",
    "else:\n",
    "    # default to run local\n",
    "    dataframe_path = \"../../pre_processing/datasets/preprocessed_data/no_filtered_analysis.csv\"\n",
    "\n",
    "    sys.path.insert(1, \"../utils/\")\n",
    "    import model_utils\n",
    "\n",
    "    results_dir = \"your_path\""
   ]
  },
  {
   "cell_type": "code",
   "execution_count": null,
   "metadata": {},
   "outputs": [],
   "source": [
    "df = pd.read_csv(dataframe_path, sep = \",\")"
   ]
  },
  {
   "cell_type": "code",
   "execution_count": null,
   "metadata": {},
   "outputs": [],
   "source": [
    "# Drop RA column if exists\n",
    "if \"RA\" in df.columns:\n",
    "    print(\"Removing column RA\")\n",
    "    df.drop('RA', inplace=True, axis=1)"
   ]
  },
  {
   "cell_type": "code",
   "execution_count": null,
   "metadata": {},
   "outputs": [],
   "source": [
    "df.head()"
   ]
  },
  {
   "cell_type": "code",
   "execution_count": null,
   "metadata": {},
   "outputs": [],
   "source": [
    "# Run all predictions based on fold n_splits\n",
    "def run_prediction(X_train, X_test, y_train, y_test):\n",
    "    \n",
    "    # used to evaluate best model params\n",
    "    gridsearch_metrics = {\n",
    "            'REC':'recall', \n",
    "            'AUC':'roc_auc', \n",
    "            'Accuracy': 'accuracy'\n",
    "    }\n",
    "\n",
    "    # model gridsearch params\n",
    "    model_params = {\n",
    "        'weights': ['uniform', 'distance'], \n",
    "        'n_neighbors': [1, 2, 3, 4, 5, 6, 7, 8, 9, 10],\n",
    "        'p': [1, 2], # 1 = minkowski and 2 = euclidian\n",
    "        'algorithm': [\"auto\"],\n",
    "        \"leaf_size\": [10, 20, 30, 40, 50]\n",
    "    }\n",
    "    \n",
    "    # gridsearch initialization\n",
    "    clf = GridSearchCV(KNeighborsClassifier(),\n",
    "                       n_jobs= 10,\n",
    "                       cv = 2,\n",
    "                       verbose= 1,\n",
    "                       param_grid = model_params,\n",
    "                       #scoring = gridsearch_metrics,\n",
    "                       refit='accuracy')\n",
    "    \n",
    "    clf.fit(X_train, y_train)\n",
    "    predictions = clf.predict(X_test)\n",
    "\n",
    "    predict_data = {\n",
    "        \"confusion_matrix\": confusion_matrix(y_test, predictions),\n",
    "        \"classification_report\": classification_report(y_test, predictions),\n",
    "        \"model_accuracy\": accuracy_score(y_test, predictions),\n",
    "        \"f1_score\": f1_score(y_test, predictions),\n",
    "        \"precision_score\": precision_score(y_test, predictions),\n",
    "        \"roc_score\": roc_auc_score(y_test, predictions),\n",
    "        \"recall_score\": recall_score(y_test, predictions),\n",
    "        \"epoch_params\": clf.best_params_,\n",
    "        \"max_error\": max_error(y_test, predictions),\n",
    "        \"mean_squared_error\": mean_squared_error(y_test, predictions),\n",
    "        \"mean_absolute_error\": mean_absolute_error(y_test, predictions)\n",
    "    }\n",
    "\n",
    "    return predict_data"
   ]
  },
  {
   "cell_type": "code",
   "execution_count": null,
   "metadata": {
    "scrolled": true
   },
   "outputs": [],
   "source": [
    "def main():\n",
    "    X = df.iloc[:, df.columns != \"EVADIDO\"].values\n",
    "    y = df[\"EVADIDO\"]\n",
    "\n",
    "    skf = StratifiedKFold(n_splits = 10)\n",
    "    skf.get_n_splits(X, y)\n",
    "    scaler = StandardScaler()\n",
    "    print(f\"StratifiedKFold config: {skf} \\n\")\n",
    "    all_predictions = []\n",
    "    for train_index, test_index in skf.split(X, y):\n",
    "\n",
    "        X_train, X_test = X[train_index], X[test_index]\n",
    "        y_train, y_test = y[train_index], y[test_index]\n",
    "\n",
    "        scaler.fit(X_train)\n",
    "        X_train = scaler.transform(X_train)\n",
    "        X_test = scaler.transform(X_test)\n",
    "\n",
    "        # return best k element\n",
    "        all_predictions.append(run_prediction(X_train, X_test, y_train, y_test))\n",
    "        \n",
    "    # General model outputs\n",
    "    model_utils.generate_output(all_predictions)\n",
    "\n",
    "    # General model outputs .csv\n",
    "    model_utils.generate_output_csv(all_predictions)\n",
    "\n",
    "    print(\"############################ FINISHED ############################\")"
   ]
  },
  {
   "cell_type": "code",
   "execution_count": null,
   "metadata": {},
   "outputs": [],
   "source": [
    "if __name__ == \"__main__\":\n",
    "    main()"
   ]
  }
 ],
 "metadata": {
  "kernelspec": {
   "display_name": "Python 3",
   "language": "python",
   "name": "python3"
  },
  "language_info": {
   "codemirror_mode": {
    "name": "ipython",
    "version": 3
   },
   "file_extension": ".py",
   "mimetype": "text/x-python",
   "name": "python",
   "nbconvert_exporter": "python",
   "pygments_lexer": "ipython3",
   "version": "3.7.9"
  }
 },
 "nbformat": 4,
 "nbformat_minor": 4
}
