{
 "cells": [
  {
   "cell_type": "code",
   "execution_count": 1,
   "metadata": {},
   "outputs": [],
   "source": [
    "## IMPORTS\n",
    "\n",
    "import numpy as np\n",
    "import pandas as pd\n",
    "from sklearn.svm import SVC\n",
    "from sklearn.metrics import confusion_matrix, classification_report, accuracy_score, roc_auc_score, precision_score, f1_score, recall_score\n",
    "from sklearn.model_selection import GridSearchCV\n",
    "from sklearn.model_selection import StratifiedKFold\n",
    "from sklearn.preprocessing import StandardScaler\n",
    "\n",
    "# import custom modules\n",
    "import sys\n",
    "sys.path.insert(1, '../utils/')\n",
    "import model_utils"
   ]
  },
  {
   "cell_type": "code",
   "execution_count": 2,
   "metadata": {},
   "outputs": [],
   "source": [
    "df = pd.read_csv(\"../../pre_processing/datasets/no_filtered_analysis.csv\")"
   ]
  },
  {
   "cell_type": "code",
   "execution_count": 3,
   "metadata": {},
   "outputs": [
    {
     "name": "stdout",
     "output_type": "stream",
     "text": [
      "Removing column RA\n"
     ]
    }
   ],
   "source": [
    "# Drop da coluna de RA\n",
    "if \"RA\" in df.columns:\n",
    "    print(\"Removing column RA\")\n",
    "    df.drop('RA', inplace=True, axis=1)"
   ]
  },
  {
   "cell_type": "code",
   "execution_count": null,
   "metadata": {},
   "outputs": [],
   "source": [
    "df.head()"
   ]
  },
  {
   "cell_type": "code",
   "execution_count": 4,
   "metadata": {},
   "outputs": [],
   "source": [
    "# Run all predictions based on fold n_splits\n",
    "def run_prediction(X_train, X_test, y_train, y_test):\n",
    "\n",
    "    # used to evaluate best model params\n",
    "    # gridsearch_metrics = {\n",
    "    #         'REC':'recall', \n",
    "    #         'AUC':'roc_auc', \n",
    "    #         'Accuracy': 'accuracy'\n",
    "    #}\n",
    "\n",
    "    # model gridsearch params\n",
    "    model_params = {\n",
    "        'kernel': ['linear','rbf', 'sigmoid'],\n",
    "        'C': [0.3,0.5,1,2,3,10],\n",
    "        'gamma': [0.3,0.5,1],\n",
    "        'decision_function_shape':['ovo', 'ovr'],\n",
    "        'shrinking': [True, False]\n",
    "    }\n",
    "\n",
    "    # gridsearch initialization\n",
    "    clf = GridSearchCV(SVC(),\n",
    "                       param_grid = model_params,\n",
    "                       #scoring = gridsearch_metrics,\n",
    "                       refit='accuracy')\n",
    "\n",
    "    clf.fit(X_train, y_train)\n",
    "    predictions = clf.predict(X_test)\n",
    "\n",
    "    predict_data = {\n",
    "        \"confusion_matrix\": confusion_matrix(y_test, predictions),\n",
    "        \"classification_report\": classification_report(y_test, predictions),\n",
    "        \"model_accuracy\": accuracy_score(y_test, predictions),\n",
    "        \"f1_score\": f1_score(y_test, predictions),\n",
    "        \"precision_score\": precision_score(y_test, predictions),\n",
    "        \"roc_score\": roc_auc_score(y_test, predictions),\n",
    "        \"recall_score\": recall_score(y_test, predictions),\n",
    "        \"epoch_params\": clf.best_params_\n",
    "    }\n",
    "\n",
    "    return predict_data"
   ]
  },
  {
   "cell_type": "code",
   "execution_count": 5,
   "metadata": {},
   "outputs": [],
   "source": [
    "def main():\n",
    "    X = df.iloc[:, df.columns != \"EVADIDO\"].values\n",
    "    y = df[\"EVADIDO\"]\n",
    "\n",
    "    skf = StratifiedKFold(n_splits = 4)\n",
    "    skf.get_n_splits(X, y)\n",
    "    scaler = StandardScaler()\n",
    "    print(f\"StratifiedKFold config: {skf} \\n\")\n",
    "    all_predictions = []\n",
    "    epoch = 1\n",
    "    for train_index, test_index in skf.split(X, y):\n",
    "\n",
    "        X_train, X_test = X[train_index], X[test_index]\n",
    "        y_train, y_test = y[train_index], y[test_index]\n",
    "\n",
    "        scaler.fit(X_train)\n",
    "        X_train = scaler.transform(X_train)\n",
    "        X_test = scaler.transform(X_test)\n",
    "\n",
    "        # return best k element\n",
    "        all_predictions.append(run_prediction(X_train, X_test, y_train, y_test))\n",
    "        \n",
    "    # General model outputs\n",
    "    model_utils.generate_output(all_predictions)\n",
    "    # CSV Output results\n",
    "    model_utils.generate_output_csv(all_predictions)\n",
    "    \n",
    "    print(\"############################ FINISHED ############################\")"
   ]
  },
  {
   "cell_type": "code",
   "execution_count": 6,
   "metadata": {},
   "outputs": [
    {
     "name": "stdout",
     "output_type": "stream",
     "text": [
      "StratifiedKFold config: StratifiedKFold(n_splits=4, random_state=None, shuffle=False) \n",
      "\n"
     ]
    },
    {
     "name": "stderr",
     "output_type": "stream",
     "text": [
      "/home/dlpires/anaconda3/lib/python3.7/site-packages/sklearn/model_selection/_split.py:2053: FutureWarning: You should specify a value for 'cv' instead of relying on the default value. The default value will change from 3 to 5 in version 0.22.\n",
      "  warnings.warn(CV_WARNING, FutureWarning)\n",
      "/home/dlpires/anaconda3/lib/python3.7/site-packages/sklearn/model_selection/_search.py:841: DeprecationWarning: The default of the `iid` parameter will change from True to False in version 0.22 and will be removed in 0.24. This will change numeric results when test-set sizes are unequal.\n",
      "  DeprecationWarning)\n",
      "/home/dlpires/anaconda3/lib/python3.7/site-packages/sklearn/model_selection/_split.py:2053: FutureWarning: You should specify a value for 'cv' instead of relying on the default value. The default value will change from 3 to 5 in version 0.22.\n",
      "  warnings.warn(CV_WARNING, FutureWarning)\n",
      "/home/dlpires/anaconda3/lib/python3.7/site-packages/sklearn/model_selection/_search.py:841: DeprecationWarning: The default of the `iid` parameter will change from True to False in version 0.22 and will be removed in 0.24. This will change numeric results when test-set sizes are unequal.\n",
      "  DeprecationWarning)\n",
      "/home/dlpires/anaconda3/lib/python3.7/site-packages/sklearn/model_selection/_split.py:2053: FutureWarning: You should specify a value for 'cv' instead of relying on the default value. The default value will change from 3 to 5 in version 0.22.\n",
      "  warnings.warn(CV_WARNING, FutureWarning)\n",
      "/home/dlpires/anaconda3/lib/python3.7/site-packages/sklearn/model_selection/_search.py:841: DeprecationWarning: The default of the `iid` parameter will change from True to False in version 0.22 and will be removed in 0.24. This will change numeric results when test-set sizes are unequal.\n",
      "  DeprecationWarning)\n",
      "/home/dlpires/anaconda3/lib/python3.7/site-packages/sklearn/model_selection/_split.py:2053: FutureWarning: You should specify a value for 'cv' instead of relying on the default value. The default value will change from 3 to 5 in version 0.22.\n",
      "  warnings.warn(CV_WARNING, FutureWarning)\n",
      "/home/dlpires/anaconda3/lib/python3.7/site-packages/sklearn/model_selection/_search.py:841: DeprecationWarning: The default of the `iid` parameter will change from True to False in version 0.22 and will be removed in 0.24. This will change numeric results when test-set sizes are unequal.\n",
      "  DeprecationWarning)\n"
     ]
    }
   ],
   "source": [
    "if __name__ == \"__main__\":\n",
    "    main()"
   ]
  }
 ],
 "metadata": {
  "kernelspec": {
   "display_name": "Python 3",
   "language": "python",
   "name": "python3"
  },
  "language_info": {
   "codemirror_mode": {
    "name": "ipython",
    "version": 3
   },
   "file_extension": ".py",
   "mimetype": "text/x-python",
   "name": "python",
   "nbconvert_exporter": "python",
   "pygments_lexer": "ipython3",
   "version": "3.7.3"
  }
 },
 "nbformat": 4,
 "nbformat_minor": 5
}
