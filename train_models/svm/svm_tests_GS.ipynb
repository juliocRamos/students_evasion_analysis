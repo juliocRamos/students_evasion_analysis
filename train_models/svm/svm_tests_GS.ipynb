{
 "cells": [
  {
   "cell_type": "code",
   "execution_count": 1,
   "id": "confused-frank",
   "metadata": {},
   "outputs": [],
   "source": [
    "## IMPORTS\n",
    "\n",
    "import numpy as np\n",
    "import pandas as pd\n",
    "from sklearn.svm import SVC\n",
    "from sklearn.model_selection import train_test_split\n",
    "from sklearn import metrics\n",
    "from sklearn.model_selection import GridSearchCV\n",
    "\n",
    "\n",
    "## IMPORT PLOTS\n",
    "from mlxtend.plotting import plot_decision_regions\n",
    "import matplotlib.pyplot as plt"
   ]
  },
  {
   "cell_type": "code",
   "execution_count": 2,
   "id": "insured-infection",
   "metadata": {},
   "outputs": [],
   "source": [
    "df = pd.read_csv(\"../../pre_processing/datasets/no_filtered_analysis.csv\")"
   ]
  },
  {
   "cell_type": "code",
   "execution_count": 3,
   "id": "greenhouse-badge",
   "metadata": {},
   "outputs": [
    {
     "data": {
      "text/html": [
       "<div>\n",
       "<style scoped>\n",
       "    .dataframe tbody tr th:only-of-type {\n",
       "        vertical-align: middle;\n",
       "    }\n",
       "\n",
       "    .dataframe tbody tr th {\n",
       "        vertical-align: top;\n",
       "    }\n",
       "\n",
       "    .dataframe thead th {\n",
       "        text-align: right;\n",
       "    }\n",
       "</style>\n",
       "<table border=\"1\" class=\"dataframe\">\n",
       "  <thead>\n",
       "    <tr style=\"text-align: right;\">\n",
       "      <th></th>\n",
       "      <th>RA</th>\n",
       "      <th>EVADIDO</th>\n",
       "      <th>RESID_ARARAS</th>\n",
       "      <th>BOLSISTA</th>\n",
       "      <th>GRADE_CORRENTE</th>\n",
       "      <th>NOTA_MEDIA</th>\n",
       "      <th>PONTUACAO_PS</th>\n",
       "      <th>TOT_MAT_CURSADAS</th>\n",
       "      <th>TOT_APROVACOES</th>\n",
       "      <th>TOT_REPROVACOES</th>\n",
       "      <th>...</th>\n",
       "      <th>SIF029</th>\n",
       "      <th>SIF030</th>\n",
       "      <th>SIF038</th>\n",
       "      <th>SIF039</th>\n",
       "      <th>SIF070</th>\n",
       "      <th>NCS037</th>\n",
       "      <th>NCS040</th>\n",
       "      <th>SIF006</th>\n",
       "      <th>SIF072</th>\n",
       "      <th>SIF073</th>\n",
       "    </tr>\n",
       "  </thead>\n",
       "  <tbody>\n",
       "    <tr>\n",
       "      <th>0</th>\n",
       "      <td>002edf3eae2ce5635d797b35345ffdea</td>\n",
       "      <td>0</td>\n",
       "      <td>1</td>\n",
       "      <td>1</td>\n",
       "      <td>2019</td>\n",
       "      <td>7.0</td>\n",
       "      <td>47.0</td>\n",
       "      <td>10</td>\n",
       "      <td>9</td>\n",
       "      <td>1</td>\n",
       "      <td>...</td>\n",
       "      <td>4</td>\n",
       "      <td>0</td>\n",
       "      <td>0</td>\n",
       "      <td>0</td>\n",
       "      <td>0</td>\n",
       "      <td>0</td>\n",
       "      <td>0</td>\n",
       "      <td>0</td>\n",
       "      <td>1</td>\n",
       "      <td>1</td>\n",
       "    </tr>\n",
       "    <tr>\n",
       "      <th>1</th>\n",
       "      <td>003719ff8ca88d5266775000fbd3c7f9</td>\n",
       "      <td>1</td>\n",
       "      <td>0</td>\n",
       "      <td>1</td>\n",
       "      <td>2016</td>\n",
       "      <td>5.5</td>\n",
       "      <td>47.0</td>\n",
       "      <td>18</td>\n",
       "      <td>15</td>\n",
       "      <td>3</td>\n",
       "      <td>...</td>\n",
       "      <td>0</td>\n",
       "      <td>0</td>\n",
       "      <td>0</td>\n",
       "      <td>0</td>\n",
       "      <td>0</td>\n",
       "      <td>0</td>\n",
       "      <td>0</td>\n",
       "      <td>1</td>\n",
       "      <td>0</td>\n",
       "      <td>0</td>\n",
       "    </tr>\n",
       "    <tr>\n",
       "      <th>2</th>\n",
       "      <td>01563df7114a12af3f8cbd0cb4082491</td>\n",
       "      <td>1</td>\n",
       "      <td>0</td>\n",
       "      <td>0</td>\n",
       "      <td>2014</td>\n",
       "      <td>3.0</td>\n",
       "      <td>46.0</td>\n",
       "      <td>12</td>\n",
       "      <td>6</td>\n",
       "      <td>6</td>\n",
       "      <td>...</td>\n",
       "      <td>0</td>\n",
       "      <td>0</td>\n",
       "      <td>0</td>\n",
       "      <td>0</td>\n",
       "      <td>0</td>\n",
       "      <td>0</td>\n",
       "      <td>0</td>\n",
       "      <td>4</td>\n",
       "      <td>0</td>\n",
       "      <td>0</td>\n",
       "    </tr>\n",
       "    <tr>\n",
       "      <th>3</th>\n",
       "      <td>016ed164e805bc35f38559a5de19f818</td>\n",
       "      <td>1</td>\n",
       "      <td>0</td>\n",
       "      <td>1</td>\n",
       "      <td>2014</td>\n",
       "      <td>5.1</td>\n",
       "      <td>47.0</td>\n",
       "      <td>49</td>\n",
       "      <td>37</td>\n",
       "      <td>12</td>\n",
       "      <td>...</td>\n",
       "      <td>1</td>\n",
       "      <td>1</td>\n",
       "      <td>5</td>\n",
       "      <td>4</td>\n",
       "      <td>1</td>\n",
       "      <td>1</td>\n",
       "      <td>1</td>\n",
       "      <td>1</td>\n",
       "      <td>0</td>\n",
       "      <td>0</td>\n",
       "    </tr>\n",
       "    <tr>\n",
       "      <th>4</th>\n",
       "      <td>017a04be49784c0140a9506efe4aea86</td>\n",
       "      <td>0</td>\n",
       "      <td>0</td>\n",
       "      <td>1</td>\n",
       "      <td>2019</td>\n",
       "      <td>5.4</td>\n",
       "      <td>30.0</td>\n",
       "      <td>10</td>\n",
       "      <td>8</td>\n",
       "      <td>2</td>\n",
       "      <td>...</td>\n",
       "      <td>0</td>\n",
       "      <td>0</td>\n",
       "      <td>0</td>\n",
       "      <td>0</td>\n",
       "      <td>0</td>\n",
       "      <td>0</td>\n",
       "      <td>0</td>\n",
       "      <td>0</td>\n",
       "      <td>2</td>\n",
       "      <td>1</td>\n",
       "    </tr>\n",
       "    <tr>\n",
       "      <th>5</th>\n",
       "      <td>01e8f44367f1a7c965985adbfa881081</td>\n",
       "      <td>1</td>\n",
       "      <td>1</td>\n",
       "      <td>1</td>\n",
       "      <td>2019</td>\n",
       "      <td>6.4</td>\n",
       "      <td>68.0</td>\n",
       "      <td>5</td>\n",
       "      <td>4</td>\n",
       "      <td>1</td>\n",
       "      <td>...</td>\n",
       "      <td>0</td>\n",
       "      <td>0</td>\n",
       "      <td>0</td>\n",
       "      <td>0</td>\n",
       "      <td>0</td>\n",
       "      <td>0</td>\n",
       "      <td>0</td>\n",
       "      <td>0</td>\n",
       "      <td>0</td>\n",
       "      <td>0</td>\n",
       "    </tr>\n",
       "    <tr>\n",
       "      <th>6</th>\n",
       "      <td>020d6f2880aa06a3eb8de00be3f6d2d2</td>\n",
       "      <td>1</td>\n",
       "      <td>1</td>\n",
       "      <td>1</td>\n",
       "      <td>2016</td>\n",
       "      <td>2.2</td>\n",
       "      <td>40.0</td>\n",
       "      <td>6</td>\n",
       "      <td>1</td>\n",
       "      <td>5</td>\n",
       "      <td>...</td>\n",
       "      <td>0</td>\n",
       "      <td>0</td>\n",
       "      <td>0</td>\n",
       "      <td>0</td>\n",
       "      <td>0</td>\n",
       "      <td>0</td>\n",
       "      <td>0</td>\n",
       "      <td>0</td>\n",
       "      <td>0</td>\n",
       "      <td>0</td>\n",
       "    </tr>\n",
       "    <tr>\n",
       "      <th>7</th>\n",
       "      <td>0233406e951728976666df486dbdffc1</td>\n",
       "      <td>1</td>\n",
       "      <td>0</td>\n",
       "      <td>1</td>\n",
       "      <td>2017</td>\n",
       "      <td>6.3</td>\n",
       "      <td>47.0</td>\n",
       "      <td>16</td>\n",
       "      <td>14</td>\n",
       "      <td>2</td>\n",
       "      <td>...</td>\n",
       "      <td>0</td>\n",
       "      <td>0</td>\n",
       "      <td>0</td>\n",
       "      <td>0</td>\n",
       "      <td>0</td>\n",
       "      <td>0</td>\n",
       "      <td>0</td>\n",
       "      <td>1</td>\n",
       "      <td>0</td>\n",
       "      <td>0</td>\n",
       "    </tr>\n",
       "    <tr>\n",
       "      <th>8</th>\n",
       "      <td>02504e5e77b7f44710c9fd0be8a17cfc</td>\n",
       "      <td>1</td>\n",
       "      <td>1</td>\n",
       "      <td>1</td>\n",
       "      <td>2014</td>\n",
       "      <td>6.4</td>\n",
       "      <td>45.3</td>\n",
       "      <td>12</td>\n",
       "      <td>10</td>\n",
       "      <td>2</td>\n",
       "      <td>...</td>\n",
       "      <td>0</td>\n",
       "      <td>0</td>\n",
       "      <td>0</td>\n",
       "      <td>0</td>\n",
       "      <td>0</td>\n",
       "      <td>0</td>\n",
       "      <td>0</td>\n",
       "      <td>1</td>\n",
       "      <td>0</td>\n",
       "      <td>0</td>\n",
       "    </tr>\n",
       "    <tr>\n",
       "      <th>9</th>\n",
       "      <td>0275dc930c1d73a0b6a220d44b264e40</td>\n",
       "      <td>0</td>\n",
       "      <td>0</td>\n",
       "      <td>1</td>\n",
       "      <td>2016</td>\n",
       "      <td>6.2</td>\n",
       "      <td>47.0</td>\n",
       "      <td>48</td>\n",
       "      <td>46</td>\n",
       "      <td>2</td>\n",
       "      <td>...</td>\n",
       "      <td>1</td>\n",
       "      <td>1</td>\n",
       "      <td>1</td>\n",
       "      <td>1</td>\n",
       "      <td>1</td>\n",
       "      <td>1</td>\n",
       "      <td>1</td>\n",
       "      <td>1</td>\n",
       "      <td>0</td>\n",
       "      <td>0</td>\n",
       "    </tr>\n",
       "  </tbody>\n",
       "</table>\n",
       "<p>10 rows × 63 columns</p>\n",
       "</div>"
      ],
      "text/plain": [
       "                                 RA  EVADIDO  RESID_ARARAS  BOLSISTA  \\\n",
       "0  002edf3eae2ce5635d797b35345ffdea        0             1         1   \n",
       "1  003719ff8ca88d5266775000fbd3c7f9        1             0         1   \n",
       "2  01563df7114a12af3f8cbd0cb4082491        1             0         0   \n",
       "3  016ed164e805bc35f38559a5de19f818        1             0         1   \n",
       "4  017a04be49784c0140a9506efe4aea86        0             0         1   \n",
       "5  01e8f44367f1a7c965985adbfa881081        1             1         1   \n",
       "6  020d6f2880aa06a3eb8de00be3f6d2d2        1             1         1   \n",
       "7  0233406e951728976666df486dbdffc1        1             0         1   \n",
       "8  02504e5e77b7f44710c9fd0be8a17cfc        1             1         1   \n",
       "9  0275dc930c1d73a0b6a220d44b264e40        0             0         1   \n",
       "\n",
       "   GRADE_CORRENTE  NOTA_MEDIA  PONTUACAO_PS  TOT_MAT_CURSADAS  TOT_APROVACOES  \\\n",
       "0            2019         7.0          47.0                10               9   \n",
       "1            2016         5.5          47.0                18              15   \n",
       "2            2014         3.0          46.0                12               6   \n",
       "3            2014         5.1          47.0                49              37   \n",
       "4            2019         5.4          30.0                10               8   \n",
       "5            2019         6.4          68.0                 5               4   \n",
       "6            2016         2.2          40.0                 6               1   \n",
       "7            2017         6.3          47.0                16              14   \n",
       "8            2014         6.4          45.3                12              10   \n",
       "9            2016         6.2          47.0                48              46   \n",
       "\n",
       "   TOT_REPROVACOES  ...  SIF029  SIF030  SIF038  SIF039  SIF070  NCS037  \\\n",
       "0                1  ...       4       0       0       0       0       0   \n",
       "1                3  ...       0       0       0       0       0       0   \n",
       "2                6  ...       0       0       0       0       0       0   \n",
       "3               12  ...       1       1       5       4       1       1   \n",
       "4                2  ...       0       0       0       0       0       0   \n",
       "5                1  ...       0       0       0       0       0       0   \n",
       "6                5  ...       0       0       0       0       0       0   \n",
       "7                2  ...       0       0       0       0       0       0   \n",
       "8                2  ...       0       0       0       0       0       0   \n",
       "9                2  ...       1       1       1       1       1       1   \n",
       "\n",
       "   NCS040  SIF006  SIF072  SIF073  \n",
       "0       0       0       1       1  \n",
       "1       0       1       0       0  \n",
       "2       0       4       0       0  \n",
       "3       1       1       0       0  \n",
       "4       0       0       2       1  \n",
       "5       0       0       0       0  \n",
       "6       0       0       0       0  \n",
       "7       0       1       0       0  \n",
       "8       0       1       0       0  \n",
       "9       1       1       0       0  \n",
       "\n",
       "[10 rows x 63 columns]"
      ]
     },
     "execution_count": 3,
     "metadata": {},
     "output_type": "execute_result"
    }
   ],
   "source": [
    "df.head(10)"
   ]
  },
  {
   "cell_type": "code",
   "execution_count": 4,
   "id": "welsh-religious",
   "metadata": {},
   "outputs": [],
   "source": [
    "# Dropo a coluna de RA\n",
    "df.drop(\"RA\", axis=1, inplace=True)"
   ]
  },
  {
   "cell_type": "code",
   "execution_count": 5,
   "id": "dress-coaching",
   "metadata": {},
   "outputs": [],
   "source": [
    "## Separando base de treino e teste\n",
    "\n",
    "X = df.iloc[:, df.columns != \"EVADIDO\"]\n",
    "y = df[\"EVADIDO\"]\n",
    "# y = to_categorical(y)\n",
    "X_train, X_test, y_train, y_test = train_test_split(X, y, test_size=0.33, random_state=42, stratify=y)"
   ]
  },
  {
   "cell_type": "code",
   "execution_count": 6,
   "id": "marine-blind",
   "metadata": {},
   "outputs": [],
   "source": [
    "metricas = {'REC':'recall', \n",
    "            'AUC':'roc_auc', \n",
    "            'Accuracy': 'accuracy'}"
   ]
  },
  {
   "cell_type": "code",
   "execution_count": 7,
   "id": "coated-stockholm",
   "metadata": {},
   "outputs": [],
   "source": [
    "## Parametros para o Grid Search\n",
    "parametros = {\n",
    "'kernel': ['linear','rbf', 'sigmoid'], \n",
    "'C': [0.3,0.5,1,2,3,10],\n",
    "'gamma': [0.3,0.5,1],\n",
    "'decision_function_shape':['ovo', 'ovr'],\n",
    "'shrinking': [True, False]\n",
    "}"
   ]
  },
  {
   "cell_type": "code",
   "execution_count": 8,
   "id": "advised-memphis",
   "metadata": {},
   "outputs": [
    {
     "name": "stdout",
     "output_type": "stream",
     "text": [
      "0    100\n",
      "1     67\n",
      "Name: EVADIDO, dtype: int64\n",
      "0    203\n",
      "1    134\n",
      "Name: EVADIDO, dtype: int64\n"
     ]
    }
   ],
   "source": [
    "print(y_test.value_counts())\n",
    "print(y_train.value_counts())"
   ]
  },
  {
   "cell_type": "code",
   "execution_count": 9,
   "id": "variable-bobby",
   "metadata": {},
   "outputs": [],
   "source": [
    "model = GridSearchCV(\n",
    "        SVC(), parametros, scoring=metricas, refit='Accuracy'\n",
    "    )"
   ]
  },
  {
   "cell_type": "code",
   "execution_count": 10,
   "id": "little-pattern",
   "metadata": {},
   "outputs": [
    {
     "data": {
      "text/plain": [
       "GridSearchCV(estimator=SVC(),\n",
       "             param_grid={'C': [0.3, 0.5, 1, 2, 3, 10],\n",
       "                         'decision_function_shape': ['ovo', 'ovr'],\n",
       "                         'gamma': [0.3, 0.5, 1],\n",
       "                         'kernel': ['linear', 'rbf', 'sigmoid'],\n",
       "                         'shrinking': [True, False]},\n",
       "             refit='Accuracy',\n",
       "             scoring={'AUC': 'roc_auc', 'Accuracy': 'accuracy',\n",
       "                      'REC': 'recall'})"
      ]
     },
     "execution_count": 10,
     "metadata": {},
     "output_type": "execute_result"
    }
   ],
   "source": [
    "model.fit(X_train, y_train)"
   ]
  },
  {
   "cell_type": "code",
   "execution_count": 11,
   "id": "sublime-shield",
   "metadata": {},
   "outputs": [
    {
     "data": {
      "text/plain": [
       "0.9554896142433235"
      ]
     },
     "execution_count": 11,
     "metadata": {},
     "output_type": "execute_result"
    }
   ],
   "source": [
    "model.score(X_train, y_train)"
   ]
  },
  {
   "cell_type": "code",
   "execution_count": 12,
   "id": "higher-designation",
   "metadata": {},
   "outputs": [
    {
     "name": "stdout",
     "output_type": "stream",
     "text": [
      "{'C': 0.5, 'decision_function_shape': 'ovo', 'gamma': 0.3, 'kernel': 'linear', 'shrinking': True}\n"
     ]
    }
   ],
   "source": [
    "## Melhor configuração\n",
    "print(model.best_params_)"
   ]
  },
  {
   "cell_type": "code",
   "execution_count": 13,
   "id": "reported-metabolism",
   "metadata": {},
   "outputs": [],
   "source": [
    "##Realizando as predições com os melhores parametros encontrados\n",
    "predictions = model.best_estimator_.predict(X_test)"
   ]
  },
  {
   "cell_type": "code",
   "execution_count": 14,
   "id": "identified-defensive",
   "metadata": {},
   "outputs": [
    {
     "name": "stdout",
     "output_type": "stream",
     "text": [
      "Accuracy:  0.9161676646706587\n",
      "Precision:  0.9344262295081968\n",
      "Recall:  0.8507462686567164\n",
      "ROC:  0.9053731343283582\n"
     ]
    }
   ],
   "source": [
    "## Scores\n",
    "print(\"Accuracy: \", metrics.accuracy_score(y_test, predictions))\n",
    "print(\"Precision: \", metrics.precision_score(y_test, predictions))\n",
    "print(\"Recall: \", metrics.recall_score(y_test, predictions))\n",
    "print(\"ROC: \", metrics.roc_auc_score(y_test, predictions))"
   ]
  },
  {
   "cell_type": "code",
   "execution_count": 15,
   "id": "respective-canada",
   "metadata": {},
   "outputs": [
    {
     "name": "stdout",
     "output_type": "stream",
     "text": [
      "[[96  4]\n",
      " [10 57]]\n"
     ]
    }
   ],
   "source": [
    "# Confusion Matrix\n",
    "print(metrics.confusion_matrix(y_test, predictions))"
   ]
  },
  {
   "cell_type": "code",
   "execution_count": 16,
   "id": "phantom-oakland",
   "metadata": {},
   "outputs": [
    {
     "name": "stdout",
     "output_type": "stream",
     "text": [
      "              precision    recall  f1-score   support\n",
      "\n",
      "           0       0.91      0.96      0.93       100\n",
      "           1       0.93      0.85      0.89        67\n",
      "\n",
      "    accuracy                           0.92       167\n",
      "   macro avg       0.92      0.91      0.91       167\n",
      "weighted avg       0.92      0.92      0.92       167\n",
      "\n"
     ]
    }
   ],
   "source": [
    "# Classification Reports\n",
    "print(metrics.classification_report(y_test, predictions))"
   ]
  },
  {
   "cell_type": "code",
   "execution_count": 17,
   "id": "illegal-interview",
   "metadata": {},
   "outputs": [],
   "source": [
    "############### PLOTS ####################"
   ]
  },
  {
   "cell_type": "code",
   "execution_count": 18,
   "id": "charged-surveillance",
   "metadata": {},
   "outputs": [],
   "source": [
    "# NOTA_MEDIA e TOTAL_REPROVAÇÔES\n",
    "\n",
    "X_plot = df[['NOTA_MEDIA', 'TOT_REPROVACOES']]\n",
    "y_plot = y #EVADIDO"
   ]
  },
  {
   "cell_type": "code",
   "execution_count": 19,
   "id": "existing-suicide",
   "metadata": {},
   "outputs": [],
   "source": [
    "def plot_contours(ax, clf, xx, yy, **params):\n",
    "    Z = clf.predict(np.c_[xx.ravel(), yy.ravel()])\n",
    "    Z = Z.reshape(xx.shape)\n",
    "    out = ax.contourf(xx, yy, Z, **params)\n",
    "    return out"
   ]
  },
  {
   "cell_type": "code",
   "execution_count": 20,
   "id": "married-sheriff",
   "metadata": {},
   "outputs": [],
   "source": [
    "def make_meshgrid(x, y, h=.02):\n",
    "    x_min, x_max = x.min() - 1, x.max() + 1\n",
    "    y_min, y_max = y.min() - 1, y.max() + 1\n",
    "    xx, yy = np.meshgrid(np.arange(x_min, x_max, h), np.arange(y_min, y_max, h))\n",
    "    return xx, yy"
   ]
  },
  {
   "cell_type": "code",
   "execution_count": 21,
   "id": "fleet-robin",
   "metadata": {},
   "outputs": [],
   "source": [
    "model = SVC(kernel='linear', C = 0.3, gamma=0.5, decision_function_shape='ovo')"
   ]
  },
  {
   "cell_type": "code",
   "execution_count": 22,
   "id": "forced-scene",
   "metadata": {},
   "outputs": [
    {
     "data": {
      "text/plain": [
       "0.7420634920634921"
      ]
     },
     "execution_count": 22,
     "metadata": {},
     "output_type": "execute_result"
    }
   ],
   "source": [
    "clf = model.fit(X_plot, y_plot)\n",
    "model.score(X_plot, y_plot)"
   ]
  },
  {
   "cell_type": "code",
   "execution_count": 23,
   "id": "derived-abraham",
   "metadata": {},
   "outputs": [
    {
     "data": {
      "image/png": "[encoded data removed]",
      "text/plain": [
       "<Figure size 432x288 with 1 Axes>"
      ]
     },
     "metadata": {},
     "output_type": "display_data"
    }
   ],
   "source": [
    "fig, ax = plt.subplots()\n",
    "\n",
    "# title for the plots\n",
    "title = 'SVC: NOTA_MEDIA x TOT_REPROVACOES'\n",
    "# Set-up grid for plotting.\n",
    "X0, X1 = X_plot.iloc[:,0], X_plot.iloc[:,1]\n",
    "xx, yy = make_meshgrid(X0, X1)\n",
    "\n",
    "plot_contours(ax, clf, xx, yy, cmap=plt.cm.coolwarm, alpha=0.8)\n",
    "ax.scatter(X0, X1, c=y, cmap=plt.cm.coolwarm, s=20, edgecolors=\"k\")\n",
    "ax.set_ylabel(\"NOTA_MEDIA\")\n",
    "ax.set_xlabel(\"GRADE_CORRENTE\")\n",
    "ax.set_xticks(())\n",
    "ax.set_yticks(())\n",
    "ax.set_title(title)\n",
    "plt.show()"
   ]
  }
 ],
 "metadata": {
  "kernelspec": {
   "display_name": "Python 3",
   "language": "python",
   "name": "python3"
  },
  "language_info": {
   "codemirror_mode": {
    "name": "ipython",
    "version": 3
   },
   "file_extension": ".py",
   "mimetype": "text/x-python",
   "name": "python",
   "nbconvert_exporter": "python",
   "pygments_lexer": "ipython3",
   "version": "3.9.1"
  }
 },
 "nbformat": 4,
 "nbformat_minor": 5
}
